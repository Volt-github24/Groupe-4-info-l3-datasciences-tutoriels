{
  "nbformat": 4,
  "nbformat_minor": 0,
  "metadata": {
    "colab": {
      "name": "Reseaux de neurones (6).ipynb",
      "provenance": [],
      "collapsed_sections": [
        "vLeqlNryM527"
      ],
      "include_colab_link": true
    },
    "kernelspec": {
      "name": "python3",
      "display_name": "Python 3"
    },
    "language_info": {
      "name": "python"
    }
  },
  "cells": [
    {
      "cell_type": "markdown",
      "metadata": {
        "id": "view-in-github",
        "colab_type": "text"
      },
      "source": [
        "<a href=\"https://colab.research.google.com/github/Volt-github24/Groupe-4-info-l3-datasciences-tutoriels/blob/main/Reseaux_de_neurones_(6).ipynb\" target=\"_parent\"><img src=\"https://colab.research.google.com/assets/colab-badge.svg\" alt=\"Open In Colab\"/></a>"
      ]
    },
    {
      "cell_type": "markdown",
      "source": [
        "# **INFOL3 - SDD- UY1 - Departement d'informatique**\n"
      ],
      "metadata": {
        "id": "vLeqlNryM527"
      }
    },
    {
      "cell_type": "markdown",
      "source": [
        "# **IMPLEMENTATION DU TUTORIEL SUR LES RESEAUX DE NEURONES**\n",
        "\n",
        "\n",
        "                                   \n",
        "### Noms des membres du groupe (**Groupe 4**) :\n",
        "  1. NOUCHEN TCHAMBA Parnell Voltaire - 19M2326\n",
        "  2. DJEUMEZA DONGMO Julie Merveille - 19M2105\n",
        "  3. MADJOU Alvine Patricia - 19M2103\n",
        "  4. NAKAM YOPDUP Manuella Kristeva - 19M2233"
      ],
      "metadata": {
        "id": "gkGbEUchNH7q"
      }
    },
    {
      "cell_type": "markdown",
      "source": [
        "**Lignes de demarcation aux reseaux de neurones**\n",
        "\n",
        "Ici, nous allons développer un réseau de neurones simple, un réseau capable de séparer deux classes, qui sont séparables par une ligne droite dans un espace de caractéristiques à 2 dimensions.\n",
        "\n",
        "Imaginons qu'on a des objets decris par deux attributs.\n",
        "un objet peut etre un fruit : \"douceur\" ou \"aigreur\" (les classes possibles).\n",
        "\n",
        "Imaginons maintenant que nous avons deux fruits comme points dans cet espace, c'est-à-dire une orange à la position (3.5, 1.8) et un citron à (1.1, 3.9). (3.5,1.8) et (1.1,3.9) etant les attributs de ces fruits.\n",
        "\n",
        "Nous voulons construire un separateur pour définir les points qui ressemblent le plus à du citron et ceux qui ressemblent le plus à de l'orange.\n",
        "\n",
        "Le code suivant permet de visualiser la situation. \n",
        "La droite permettant de les separer passe par un point de coordonnees (4, 4.5)\n"
      ],
      "metadata": {
        "id": "7Ga94eA_Pnao"
      }
    },
    {
      "cell_type": "code",
      "source": [
        "import matplotlib.pyplot as plt\n",
        "import numpy as np\n",
        "\n",
        "X = np.arange(0, 7) # pour generer un ensemble de points sur la quelle la ligne demarcation passe \n",
        "fig, ax = plt.subplots()\n",
        "ax.plot(3.5, 1.8, \"or\", color=\"darkorange\", markersize=15) # Affichage du premier fruit\n",
        "ax.plot(1.1, 3.9, \"oy\",markersize=15) # Affichage du deuxieme fruit\n",
        "point_on_line = (4, 4.5)\n",
        "# calculate gradient:\n",
        "m = point_on_line[1] / point_on_line[0] # calcule de la pente pour tracer la droite\n",
        "ax.plot(X, m * X, \"b\", linewidth=3)\n",
        "plt.show()"
      ],
      "metadata": {
        "colab": {
          "base_uri": "https://localhost:8080/",
          "height": 267
        },
        "id": "7KtvhUZ2QCKR",
        "outputId": "61edbe33-1061-4f0e-f822-b706a6b6aa61"
      },
      "execution_count": null,
      "outputs": [
        {
          "output_type": "display_data",
          "data": {
            "text/plain": [
              "<Figure size 432x288 with 1 Axes>"
            ],
            "image/png": "[encoded data removed]"
          },
          "metadata": {
            "needs_background": "light"
          }
        }
      ]
    },
    {
      "cell_type": "markdown",
      "source": [
        "Maintenant comment savoir à partir des coordonees d'un point s'il est en dessus ou en dessous de la ligne de separation ?\n"
      ],
      "metadata": {
        "id": "UvVsBirFQQvG"
      }
    },
    {
      "cell_type": "code",
      "source": [
        "lemon = (1.1, 3.9)\n",
        "orange = (3.5, 1.8)\n",
        "m = 4.5 / 4\n",
        "# check if orange is below the line,\n",
        "# positive value is expected, according to the demonstrations made in the tutorial:\n",
        "print(orange[0] * m - orange[1])\n",
        "\n",
        "# check if lemon is above the line,\n",
        "# negative value is expected, according to the demonstrations made in the tutorial:\n",
        "print(lemon[0] * m - lemon[1])"
      ],
      "metadata": {
        "colab": {
          "base_uri": "https://localhost:8080/"
        },
        "id": "zTRX1mctQYc6",
        "outputId": "8065755c-51da-40b0-a23a-97386a4b0837"
      },
      "execution_count": null,
      "outputs": [
        {
          "output_type": "stream",
          "name": "stdout",
          "text": [
            "2.1375\n",
            "-2.6624999999999996\n"
          ]
        }
      ]
    },
    {
      "cell_type": "markdown",
      "source": [
        "On peut donc constater que l'orange est en dessous de la ligne(car x*m - y > 0) et le citron en dessus de la ligne (car x*m - y < 0)"
      ],
      "metadata": {
        "id": "Gj81eo7KQbkn"
      }
    },
    {
      "cell_type": "code",
      "source": [
        ""
      ],
      "metadata": {
        "id": "gpFnwnovQcDd"
      },
      "execution_count": null,
      "outputs": []
    },
    {
      "cell_type": "markdown",
      "source": [
        "Nous allons charger plusieurs fruits : oranges et citrons avec un programme Python. Nous allons créer ces deux classes en\n",
        "créant au hasard des points à l'intérieur d'un cercle dont le centre et le rayon sont définis. Le code Python suivant le permet."
      ],
      "metadata": {
        "id": "2ebFfpeHQtfj"
      }
    },
    {
      "cell_type": "code",
      "source": [
        "import numpy as np\n",
        "import matplotlib.pyplot as plt\n",
        "\n",
        "# fonction prend en parametre un point central, le rayon de repartition, et le nombre de sample a generer\n",
        "# elle retourne une liste de point (x,y)\n",
        "def points_within_circle(radius, center=(0, 0), number_of_points=100):\n",
        "  center_x, center_y = center\n",
        "  r = radius * np.sqrt(np.random.random((number_of_points,)))\n",
        "  theta = np.random.random((number_of_points,)) * 2 * np.pi\n",
        "  x = center_x + r * np.cos(theta)\n",
        "  y = center_y + r * np.sin(theta)\n",
        "  return x, y\n",
        "\n",
        "# ici on va donc dessiner la ligne de demarcation passant par l'origine\n",
        "X = np.arange(0, 13)\n",
        "fig, ax = plt.subplots()\n",
        "oranges_x, oranges_y = points_within_circle(2.3, (8, 3), 100) # on genere l'ensemble des points oranges\n",
        "lemons_x, lemons_y = points_within_circle(2.2, (3, 7), 100) # on genere l'ensemble des points citrons\n",
        "ax.scatter(oranges_x, oranges_y, c=\"orange\", label=\"oranges\") # on affiche cet ensemble de fruits orange\n",
        "ax.scatter(lemons_x,lemons_y, c=\"y\", label=\"lemons\") # on affiche cet ensemble de fruits lemons\n",
        "ax.plot(X, 0.9 * X, \"g-\", linewidth=3) # 0n trace la ligne de demarcation passant par l'origine\n",
        "ax.legend()\n",
        "ax.grid()\n",
        "plt.show()"
      ],
      "metadata": {
        "colab": {
          "base_uri": "https://localhost:8080/",
          "height": 265
        },
        "id": "cwYODPCaQ55X",
        "outputId": "53aa6d71-8716-45bf-deda-8b4bfeb557d0"
      },
      "execution_count": null,
      "outputs": [
        {
          "output_type": "display_data",
          "data": {
            "text/plain": [
              "<Figure size 432x288 with 1 Axes>"
            ],
            "image/png": "[encoded data removed]"
          },
          "metadata": {
            "needs_background": "light"
          }
        }
      ]
    },
    {
      "cell_type": "markdown",
      "source": [
        "Jusqu'ici nou avons desinné de facon fixe la ligne de demarcation, maintenant trouvons comment la mettre de facon systematique, juste plus à l'oeil nu."
      ],
      "metadata": {
        "id": "A18JudklWJ3n"
      }
    },
    {
      "cell_type": "code",
      "source": [
        "import numpy as np\n",
        "import matplotlib.pyplot as plt\n",
        "from itertools import repeat\n",
        "from random import shuffle\n",
        "\n",
        "X = np.arange(0, 10)\n",
        "fig, ax = plt.subplots() # on creer la figure\n",
        "# comme toujours on affiche d'abord les differents fruits, oranges et lemons\n",
        "ax.scatter(oranges_x, oranges_y, c=\"orange\", label=\"oranges\") \n",
        "ax.scatter(lemons_x,lemons_y, c=\"y\", label=\"lemons\")\n",
        "# on constitue le tuple des coordonnes de chaque fruits avec en quelque sorte les classes qui sont soit 0(pour les oranges) ou 1(pour les lemons)\n",
        "fruits = list(zip(oranges_x, oranges_y, repeat(0, len(oranges_x))))\n",
        "fruits += list(zip(lemons_x, lemons_y, repeat(1, len(oranges_x))))\n",
        "shuffle(fruits) # ensuite on melange, afin d'avoir un jeu de donnees melangé.\n",
        "\n",
        "# ici, cette fonction permet d'ajuster la pente au fur et a mesure qu'on a une nouvelle donnee.\n",
        "# si le point qui represente le fruit est en haut et qu'il devait etre en bas, on decremente la pente, au prealable fixee aleatoirement, et vice versa\n",
        "def adjust(learning_rate=0.3, slope=0.3):\n",
        "  line = None\n",
        "  counter = 0\n",
        "  for x, y, label in fruits:\n",
        "    res = slope * x - y\n",
        "    #print(label, res)\n",
        "    if label == 0 and res < 0:\n",
        "      # point is above line but should be below\n",
        "      # => increment slope\n",
        "      slope += learning_rate\n",
        "      counter += 1\n",
        "      # ax.plot(X, slope * X, linewidth=2, label=str(counter))\n",
        "    elif label == 1 and res > 0:\n",
        "      # point is below line but should be above\n",
        "      # => decrement slope\n",
        "      #print(res, label)\n",
        "      slope -= learning_rate\n",
        "      counter += 1\n",
        "      ax.plot(X, slope * X, linewidth=2, label=str(counter))\n",
        "  return slope\n",
        "\n",
        "# on affiche maintenant la igne de demarcation avec la derniere oente calculee, que la fonction adjust() retourne\n",
        "slope = adjust()\n",
        "ax.plot(X, slope * X, linewidth=2)\n",
        "ax.legend()\n",
        "ax.grid()\n",
        "plt.show()"
      ],
      "metadata": {
        "colab": {
          "base_uri": "https://localhost:8080/",
          "height": 265
        },
        "id": "rw-Tm4luWjtO",
        "outputId": "08a5dac2-f75d-40fc-bf82-7e1f8c5ff0cc"
      },
      "execution_count": null,
      "outputs": [
        {
          "output_type": "display_data",
          "data": {
            "text/plain": [
              "<Figure size 432x288 with 1 Axes>"
            ],
            "image/png": "[encoded data removed]"
          },
          "metadata": {
            "needs_background": "light"
          }
        }
      ]
    },
    {
      "cell_type": "markdown",
      "source": [
        "Plus haut on a adapté le calcul de la ligne de demarcation, elle est ajustee a chaque nouvelle entree."
      ],
      "metadata": {
        "id": "LREQXaCMi_m-"
      }
    },
    {
      "cell_type": "markdown",
      "source": [
        "Voyons comment l'adaptation de la ligne de demarcation se fait sur les fruits lemons."
      ],
      "metadata": {
        "id": "zSmdo8HcjhwV"
      }
    },
    {
      "cell_type": "code",
      "source": [
        "X = np.arange(0, 10)\n",
        "fig, ax = plt.subplots()\n",
        "ax.scatter(oranges_x, oranges_y, c=\"orange\", label=\"oranges\")\n",
        "ax.scatter(lemons_x, lemons_y, c=\"y\", label=\"lemons\")\n",
        "slope = adjust(learning_rate=0.2, slope=3)\n",
        "ax.plot(X, slope * X, linewidth=2)\n",
        "\n",
        "ax.legend()\n",
        "ax.grid()\n",
        "plt.show()\n",
        "print(slope)\n"
      ],
      "metadata": {
        "colab": {
          "base_uri": "https://localhost:8080/",
          "height": 282
        },
        "id": "M_EZJLO4YgT4",
        "outputId": "0c8770ef-fc3a-4724-a61f-e5e211301cbe"
      },
      "execution_count": null,
      "outputs": [
        {
          "output_type": "display_data",
          "data": {
            "text/plain": [
              "<Figure size 432x288 with 1 Axes>"
            ],
            "image/png": "[encoded data removed]"
          },
          "metadata": {
            "needs_background": "light"
          }
        },
        {
          "output_type": "stream",
          "name": "stdout",
          "text": [
            "1.1999999999999995\n"
          ]
        }
      ]
    },
    {
      "cell_type": "markdown",
      "source": [
        "On voit tres bien qu'au depart , pour le premier fruit lemon, la ligne de demarcation ne classait que ce lemon, plus on envoie des fruits (lemon), plus la pente diminue et a la fin, tous les lemons sont en haut de la ligne comme ca doit etre."
      ],
      "metadata": {
        "id": "5zdK5x7YkXg6"
      }
    },
    {
      "cell_type": "markdown",
      "source": [
        "Jusqu'ici nous avons su comment separer les donnees lineairement en ajustant systematiquement la ligne de demarcation, maintenant voyons quel est le rapport avec les reseaux de neurones. Nous utiliserons le perceptron simple, juste un neuronne, avec deux entrees et une sortie\n",
        "."
      ],
      "metadata": {
        "id": "OugbnPBVlBEl"
      }
    },
    {
      "cell_type": "code",
      "source": [
        "import numpy as np\n",
        "\n",
        "# on definit la classe qui va nous servir de perceptron\n",
        "class Perceptron:\n",
        "  def __init__(self, weights): # weiht contiendra la liste des poids initiaux\n",
        "    \"\"\"\n",
        "    'weights' can be a numpy array, list or a tuple with the\n",
        "    actual values of the weights. The number of input values\n",
        "    is indirectly defined by the length of 'weights'\n",
        "    \"\"\"\n",
        "    self.weights = np.array(weights) # les poids sont initialisés avec ce qui est passé en paramètre.\n",
        "\n",
        "  # cette fonction retourne la somme des entrees ponderees\n",
        "  def __call__(self, in_data):\n",
        "    weighted_input = self.weights * in_data\n",
        "    weighted_sum = weighted_input.sum()\n",
        "    return weighted_sum\n",
        "\n",
        "# on cree donc un perceptron\n",
        "p = Perceptron(weights=[-0.45, 0.5])\n",
        "\n",
        "for point in zip(oranges_x[:10], oranges_y[:10]):\n",
        "  res = p(point) # on affecte les poids ponderes a la variable res\n",
        "  print(res, end=\", \") # on affiche l'ensembles des differents poids pour tous les echantillons des fruits oranges\n",
        "\n",
        "for point in zip(lemons_x[:10], lemons_y[:10]):\n",
        "  res = p(point) # on affecte les poids ponderes a la variable res\n",
        "  print(res, end=\", \")  # on affiche l'ensembles des differents poids pour tous les echantillons des fruits lemons"
      ],
      "metadata": {
        "id": "GRtIK163wgL5",
        "colab": {
          "base_uri": "https://localhost:8080/"
        },
        "outputId": "a476dc4d-0887-4038-bb01-31446615e255"
      },
      "execution_count": null,
      "outputs": [
        {
          "output_type": "stream",
          "name": "stdout",
          "text": [
            "-3.149452896502102, -2.598084619865562, -2.114771388937342, -1.6944702339645472, -2.3461763984847344, -2.111795140134332, -3.0235370653980302, -0.7902860760335821, -2.0089774362027266, -1.011739837475528, 1.7062330197452271, 1.224737517606027, 2.1060440592130067, 1.7074019433547378, 1.020304357013777, 3.1151868833300593, 1.5354000773198464, 1.9749317475457067, 1.75671307472352, 2.5465544289309014, "
          ]
        }
      ]
    },
    {
      "cell_type": "markdown",
      "source": [
        "Ce bout de code nous affiche les differentes potentiels qui sont renvoyés au neurone pour chaque exemplaire, c'est donc normral que ce soit different car chaque echantillon a ses coordonnees (attributs) qui sont forcement different"
      ],
      "metadata": {
        "id": "S9gHEH7oQjrl"
      }
    },
    {
      "cell_type": "markdown",
      "source": [
        "Nous pouvons voir que nous obtenons une valeur négative, si nous entrons une orange et une valeur positive, si nous entrons un citron. On comprends que pour les fruits orange, nous avons des sorties negatives, et pour les fruits lemons nous avons des sorties positives, calculons donc la precision du reseau"
      ],
      "metadata": {
        "id": "v2ijl8vZS_Op"
      }
    },
    {
      "cell_type": "code",
      "source": [
        "from collections import Counter\n",
        "evaluation = Counter()\n",
        "print(evaluation)\n",
        "for point in zip(oranges_x, oranges_y):\n",
        "  res = p(point)\n",
        "  if res < 0: \n",
        "    evaluation['corrects'] += 1\n",
        "  else:\n",
        "    evaluation['wrongs'] += 1\n",
        "\n",
        "for point in zip(lemons_x, lemons_y):\n",
        "  res = p(point)\n",
        "  if res >= 0:\n",
        "    evaluation['corrects'] += 1\n",
        "  else:\n",
        "    evaluation['wrongs'] += 1\n",
        "\n",
        "print(evaluation)"
      ],
      "metadata": {
        "id": "Hh1yOlEbwgvY",
        "colab": {
          "base_uri": "https://localhost:8080/"
        },
        "outputId": "a5a3d0d3-c58f-48d8-f777-7f0bf3a0d29f"
      },
      "execution_count": null,
      "outputs": [
        {
          "output_type": "stream",
          "name": "stdout",
          "text": [
            "Counter()\n",
            "Counter({'corrects': 200})\n"
          ]
        }
      ]
    },
    {
      "cell_type": "markdown",
      "source": [
        "Il est donc claire que le nombre d'observations correctes soit exactement le nombre total d'observations car on a utilisé le meme jeu de donnees pour construirre le perceptron et cest avec le meme ensemble de donnees qu'on fait l'evaluation."
      ],
      "metadata": {
        "id": "1Y03OqOFUZj6"
      }
    },
    {
      "cell_type": "markdown",
      "source": [
        "Cetait en fait l'autre facon de calculer la pente de la ligne de demarcation, apres demonstration on voit que la pente m est w1 / w2, donc en representant les donnees et en les separant par une droite dont la pente est w1 / w2, on aura une bonne ligne de demarcation, voyons ca :"
      ],
      "metadata": {
        "id": "1u5L1nXUW5s0"
      }
    },
    {
      "cell_type": "code",
      "source": [
        "import time\n",
        "import matplotlib.pyplot as plt\n",
        "slope = 0.1\n",
        "X = np.arange(0, 11)\n",
        "fig, ax = plt.subplots()\n",
        "ax.scatter(oranges_x, oranges_y, c=\"orange\", label=\"oranges\")\n",
        "ax.scatter(lemons_x, lemons_y, c=\"y\", label=\"lemons\")\n",
        "\n",
        "slope = 0.45 / 0.5 # on calcule cette pente avec la formule obtenue apres demonstration (w1/w2)\n",
        "\n",
        "ax.plot(X, slope * X, linewidth=2)\n",
        "ax.grid()\n",
        "plt.show()\n",
        "\n",
        "print(slope) # on affiche la pente"
      ],
      "metadata": {
        "colab": {
          "base_uri": "https://localhost:8080/",
          "height": 282
        },
        "id": "725fFPakXUfU",
        "outputId": "dad1684a-50b4-419a-e374-79b46596ed40"
      },
      "execution_count": null,
      "outputs": [
        {
          "output_type": "display_data",
          "data": {
            "text/plain": [
              "<Figure size 432x288 with 1 Axes>"
            ],
            "image/png": "[encoded data removed]"
          },
          "metadata": {
            "needs_background": "light"
          }
        },
        {
          "output_type": "stream",
          "name": "stdout",
          "text": [
            "0.9\n"
          ]
        }
      ]
    },
    {
      "cell_type": "markdown",
      "source": [
        "On peut donc comprendre pour le cas ou nous sommes en dimension 2, la pente de la ligne de demarcation est juste le quotient entre le poids du reseau de neurone, si on applique pas de fonction d'activations\n",
        "\n",
        "Une autre chose à comprendre cest pourquoi les fruits oranges on une sortie negative et les fruits lemons ont une sortie positive ?\n",
        "Tout simplement par ceque, d'apres ce shema, on peut remarquer que pour les fruits oranges, les valeurs de x sont tres grandes devant les valeurs de y et la valeur du premier poids est negative, les negatifs vont donc dominer sur la somme et on aura un resultat negatif (pour la sortie des exemples oranges) , et c'est exactement le meme principe pour les fruits lemons, les valeurs de y sont tres grandes devant les valeurs de x, et comme la valeur du second poids est positive, alors les positifs vont dominer dans le calcul et les exemples lemons auront des sorties positives, ainsi on parvient donc à dire que si la sortie est negative, alors le fruit est orange, sinon est lemon, et on effectue une evaluation..."
      ],
      "metadata": {
        "id": "CHBmgBngYCIL"
      }
    },
    {
      "cell_type": "markdown",
      "source": [
        "Entrainement du perceptron: Ce que nous avons fait jusqu'ici n'est qu'un ajustement simple avec des meme valeurs de poids, voyons maintenant comme fonctionne l'entrainement (calcul des meilleurs valeurs des poinds après que chaque echatillon).\n",
        "\n",
        "Divisons donc d'abord nos donnees en deux (entrainement et test). "
      ],
      "metadata": {
        "id": "rpI8x92MZxtV"
      }
    },
    {
      "cell_type": "code",
      "source": [
        "from sklearn.model_selection import train_test_split\n",
        "import random\n",
        "\n",
        "oranges = list(zip(oranges_x, oranges_y)) # on constitue la liste des tuples pour les coordonnees de x et y des fruits oranges\n",
        "lemons = list(zip(lemons_x, lemons_y)) # on constitue la liste des tuples pour les coordonnees de x et y des fruits lemons\n",
        "\n",
        "# labelling oranges with 0 and lemons with 1:\n",
        "labelled_data = list(zip(oranges + lemons, [0] * len(oranges) + [1] * len(lemons)))\n",
        "random.shuffle(labelled_data) # ensuite on melange les donnees pour que la division des dnnees soit assez representative pour chaque classe\n",
        "data, labels = zip(*labelled_data) # on construit les donnees non etiquetees et les etiquettes a cote\n",
        "\n",
        "res = train_test_split(data, labels, train_size=0.8, test_size=0.2, random_state=42) # on divise les donnees (80 -20)\n",
        "train_data, test_data, train_labels, test_labels = res\n",
        "print(train_data[:10], \"\\n\", train_labels[:10] ) # on affiche juste les 10 premiers pour voir s'il ya quand meme eu melange"
      ],
      "metadata": {
        "colab": {
          "base_uri": "https://localhost:8080/"
        },
        "id": "7B0BS9iDbWRA",
        "outputId": "84a8a073-1c2f-4d65-c13b-c0ba742b7389"
      },
      "execution_count": null,
      "outputs": [
        {
          "output_type": "stream",
          "name": "stdout",
          "text": [
            "[(4.786475634597229, 7.349065118948155), (3.898775283080321, 5.5113596339775786), (7.20116359594377, 2.3064162650983286), (4.9633676036583285, 7.866259555738008), (3.3199080545365156, 6.40272113579234), (2.1940701873305786, 6.626636526678348), (4.427058311712389, 6.087945592986557), (9.316630198479075, 2.4558268685608153), (2.5079014359706653, 7.677924558932206), (4.02492390193432, 8.144414663018944)] \n",
            " [1, 1, 0, 1, 1, 1, 1, 0, 1, 1]\n"
          ]
        }
      ]
    },
    {
      "cell_type": "markdown",
      "source": [
        "ON voit bien que le melange a ete effectif car on ne retrouve pas qu'une seule classe"
      ],
      "metadata": {
        "id": "0oKu5ybm9leg"
      }
    },
    {
      "cell_type": "markdown",
      "source": [
        "Nous ne pouvons pas nous attendre à ce que le résultat soit correct car nous commencons avec des valeurs arbitraires pour les poids. Pour certains points (fruits), il peut retourner la bonne valeur, c'est-à-dire 1 pour un citron et 0 pour une orange. Dans le cas où nous obtenons un résultat erroné, nous devons corriger nos valeurs de poids, donc nous devons calculer l'erreur apres chaque entree,"
      ],
      "metadata": {
        "id": "xdn0wHAX9sH6"
      }
    },
    {
      "cell_type": "code",
      "source": [
        "import numpy as np\n",
        "from collections import Counter\n",
        "\n",
        "\n",
        "# on definit une classe perceptron qui va contenir l'ensemble des methodes utiles\n",
        "class Perceptron:\n",
        "\n",
        "  # on attribut les valeurs en parametres aux poids et aux taux d'apprentissage\n",
        "  def __init__(self,weights,learning_rate=0.1):\n",
        "    \"\"\"\n",
        "    'weights' can be a numpy array, list or a tuple with the\n",
        "    actual values of the weights. The number of input values\n",
        "    is indirectly defined by the length of 'weights'\n",
        "    \"\"\"\n",
        "    self.weights = np.array(weights)\n",
        "    self.learning_rate = learning_rate\n",
        "\n",
        "  # cette fonction permettra de calculer la classe en sorti en fontion de si l'activation est negative ou positive.\n",
        "  @staticmethod\n",
        "  def unit_step_function(x):\n",
        "    if x < 0:\n",
        "      return 0\n",
        "    else:\n",
        "      return 1\n",
        "\n",
        "  # celle ci calcule la somme ponderee des entrees pour chaqu echatillon.\n",
        "  def __call__(self, in_data):\n",
        "    weighted_input = self.weights * in_data\n",
        "    weighted_sum = weighted_input.sum()\n",
        "    #print(in_data, weighted_input, weighted_sum)\n",
        "    return Perceptron.unit_step_function(weighted_sum) # elle retourne donc en fait la clsse predite (0 si la sommme ponderee est negative, et 1 sinon)\n",
        "\n",
        "  # Cette fonction ajuste les differents poids.\n",
        "  def adjust(self, target_result, calculated_result, in_data):\n",
        "    if type(in_data) != np.ndarray:\n",
        "      in_data = np.array(in_data)\n",
        "    # on calcule l'erreur (difference entre ce qui doit etre et ce qui est predit)\n",
        "    error = target_result - calculated_result\n",
        "\n",
        "    \"\"\"\n",
        "    Si l'erreur est nulle, le reseau predit bien cette entre, donc pas besoin de modifier les poids\n",
        "    Si l'erreur n'est donc pas nulle, on corrige les poids, avec w = w + e*xi*alpha\n",
        "    \"\"\"\n",
        "    if error != 0:\n",
        "      correction = error * in_data * self.learning_rate\n",
        "      self.weights += correction\n",
        "      # affichons maintenant la bonne classe, la classe predite, l'erreur l'entree, la coreection et le nouveau poids\n",
        "      #print(target_result, calculated_result, error, in_data, correction, self.weights)\n",
        "\n",
        "  # Elle prend en entree les donnees non etiquetees et les etiquettes, puis retourne un dictionnaire contenant le nombre de bonnes predictions et le nombre de mauvaises predictions\n",
        "  def evaluate(self, data, labels):\n",
        "    evaluation = Counter()\n",
        "    for index in range(len(data)):\n",
        "      label = int(round(p(data[index]),0))\n",
        "      if label == labels[index]:\n",
        "        evaluation[\"correct\"] += 1\n",
        "      else:\n",
        "        evaluation[\"wrong\"] += 1\n",
        "    return evaluation\n",
        "\n",
        "\n",
        "p = Perceptron(weights=[0.1, 0.1], learning_rate=0.3)\n",
        "\n",
        "for index in range(len(train_data)):\n",
        "  #on ajuste les poids au fur et a mesure\n",
        "  p.adjust(train_labels[index],p(train_data[index]), train_data[index])\n",
        "\n",
        "evaluation = p.evaluate(train_data, train_labels)\n",
        "print(evaluation)\n",
        "evaluation = p.evaluate(test_data, test_labels)\n",
        "print(evaluation.most_common())\n",
        "print(p.weights)\n"
      ],
      "metadata": {
        "colab": {
          "base_uri": "https://localhost:8080/"
        },
        "id": "9JRcX6N69lyH",
        "outputId": "ffc7f7d3-2b91-44b9-ddfa-4df096e94c7a"
      },
      "execution_count": null,
      "outputs": [
        {
          "output_type": "stream",
          "name": "stdout",
          "text": [
            "Counter({'correct': 160})\n",
            "[('correct', 40)]\n",
            "[-3.71594308  4.93497249]\n"
          ]
        }
      ]
    },
    {
      "cell_type": "markdown",
      "source": [
        "Nous avons cree un perceptron avec les poids [0.1, 0.1] et un taux d'apprentissage de 0.3, appres apprentissage on obtient les poids [-1.04638251  0.99395844], bien evidement le taux d'erreur sur les donnees d'entrainement est nul. Et heuresement egalement sur les donnees de test.\n",
        "\n",
        "Visualisons maintenant la nouvele frontiere de decision."
      ],
      "metadata": {
        "id": "ExcToNbd9xvy"
      }
    },
    {
      "cell_type": "code",
      "source": [
        "import matplotlib.pyplot as plt\n",
        "import numpy as np\n",
        "X = np.arange(0, 11)\n",
        "fig, ax = plt.subplots()\n",
        "\n",
        "lemons = [train_data[i] for i in range(len(train_data)) if train_labels[i] == 1]\n",
        "lemons_x, lemons_y = zip(*lemons) # on recopie les fruits par classe (d'abord les classes 1)\n",
        "\n",
        "oranges = [train_data[i] for i in range(len(train_data)) if train_labels[i] == 0]\n",
        "oranges_x, oranges_y = zip(*oranges) # on recopie les fruits par classe (ensuite les classes 2)\n",
        "\n",
        "# visualisation\n",
        "ax.scatter(oranges_x, oranges_y, c=\"orange\")\n",
        "ax.scatter(lemons_x, lemons_y, c=\"y\")\n",
        "\n",
        "# maintenant  on trace juste une droite connaisant sa pente, ayant les valeurs des poids.\n",
        "w1 = p.weights[0]\n",
        "w2 = p.weights[1]\n",
        "m = -w1 / w2\n",
        "ax.plot(X, m * X, label=\"decision boundary\")\n",
        "ax.legend()\n",
        "plt.show()\n",
        "print(p.weights)"
      ],
      "metadata": {
        "colab": {
          "base_uri": "https://localhost:8080/",
          "height": 282
        },
        "id": "1ghiiB9J9y-u",
        "outputId": "28ed581b-3762-4cb6-ed6b-86174696bf7f"
      },
      "execution_count": null,
      "outputs": [
        {
          "output_type": "display_data",
          "data": {
            "text/plain": [
              "<Figure size 432x288 with 1 Axes>"
            ],
            "image/png": "[encoded data removed]"
          },
          "metadata": {
            "needs_background": "light"
          }
        },
        {
          "output_type": "stream",
          "name": "stdout",
          "text": [
            "[-3.71594308  4.93497249]\n"
          ]
        }
      ]
    },
    {
      "cell_type": "markdown",
      "source": [
        "Tel est le separateur que le perceptron simple a produit\n",
        "\n",
        "Voyons comment l'algorithme fonctionne"
      ],
      "metadata": {
        "id": "WnPDpI9W97J6"
      }
    },
    {
      "cell_type": "markdown",
      "source": [
        ""
      ],
      "metadata": {
        "id": "YA34tFVW98y8"
      }
    },
    {
      "cell_type": "code",
      "source": [
        ""
      ],
      "metadata": {
        "id": "0vsySBgK99T1"
      },
      "execution_count": null,
      "outputs": []
    },
    {
      "cell_type": "markdown",
      "source": [
        " **RESEAU DE NEURONNES SIMPLE:**"
      ],
      "metadata": {
        "id": "jN-4ChmyYscf"
      }
    },
    {
      "cell_type": "code",
      "execution_count": null,
      "metadata": {
        "id": "TiqEkl_3MhnZ",
        "colab": {
          "base_uri": "https://localhost:8080/",
          "height": 265
        },
        "outputId": "3b6fd53f-f657-43dd-dc0f-2baed64e47da"
      },
      "outputs": [
        {
          "output_type": "display_data",
          "data": {
            "text/plain": [
              "<Figure size 432x288 with 1 Axes>"
            ],
            "image/png": "[encoded data removed]"
          },
          "metadata": {
            "needs_background": "light"
          }
        }
      ],
      "source": [
        "# Importation des bibliotheques\n",
        "import matplotlib.pyplot as plt\n",
        "import numpy as np\n",
        "\n",
        "# Generation de notre repere\n",
        "fig, ax = plt.subplots()\n",
        "# Generation de l'intervalle de l'axe des abscisses\n",
        "xmin, xmax = -0.2, 1.4\n",
        "# Organisation des valeurs de l'intervalle \n",
        "X = np.arange(xmin, xmax, 0.1)\n",
        "# Generation des points constituant nos differentes classes a une certaine position dans notre repere\n",
        "ax.scatter(0, 0, color=\"r\")\n",
        "ax.scatter(0, 1, color=\"r\")\n",
        "ax.scatter(1, 0, color=\"r\")\n",
        "ax.scatter(1, 1, color=\"g\")\n",
        "# On définit les limites de la vue sur l'axe des abscisses\n",
        "ax.set_xlim([xmin, xmax])\n",
        "ax.set_ylim([-0.1, 1.1])\n",
        "m = -1\n",
        "\n",
        "# Construction de notre nuage de points\n",
        "plt.plot()\n"
      ]
    },
    {
      "cell_type": "markdown",
      "source": [
        "Dans ce bout de code, il est question de generer un repere devant contenir les nuages de points distincts, chacun devrant constituer les deux classes a separer."
      ],
      "metadata": {
        "id": "ZuMh-KbPjBDh"
      }
    },
    {
      "cell_type": "code",
      "source": [
        "import matplotlib.pyplot as plt\n",
        "import numpy as np\n",
        "\n",
        "fig, ax = plt.subplots()\n",
        "xmin, xmax = -0.2, 1.4\n",
        "X = np.arange(xmin, xmax, 0.1)\n",
        "ax.set_xlim([xmin, xmax])\n",
        "ax.set_ylim([-0.1, 1.1])\n",
        "m = -1 # la pente fixee\n",
        "# On affiche des lignes separateurs passant par l'origine avec la pente m precedente\n",
        "for m in np.arange(0, 6, 0.1):\n",
        "  ax.plot(X, m*X)\n",
        "ax.scatter(0, 0, color=\"r\")\n",
        "ax.scatter(0, 1, color=\"r\")\n",
        "ax.scatter(1, 0, color=\"r\")\n",
        "ax.scatter(1, 1, color=\"g\")\n",
        "plt.plot()"
      ],
      "metadata": {
        "id": "q8iTE-x5NSsT",
        "colab": {
          "base_uri": "https://localhost:8080/",
          "height": 284
        },
        "outputId": "4425ee42-a5fa-4094-8a1a-9b1a1eb61002"
      },
      "execution_count": null,
      "outputs": [
        {
          "output_type": "execute_result",
          "data": {
            "text/plain": [
              "[]"
            ]
          },
          "metadata": {},
          "execution_count": 8
        },
        {
          "output_type": "display_data",
          "data": {
            "text/plain": [
              "<Figure size 432x288 with 1 Axes>"
            ],
            "image/png": "[encoded data removed]"
          },
          "metadata": {
            "needs_background": "light"
          }
        }
      ]
    },
    {
      "cell_type": "markdown",
      "source": [
        "Dans ce bout de code, on crée plusieurs separateurs lineaires chacun etant sous la forme y=mx . Seulement, on constate qu'aucune des lignes generees ne peut etre utilisee comme frontiere de decision car ne separant pas les elements de chacune de nos classes."
      ],
      "metadata": {
        "id": "cIgn_WGKwOYr"
      }
    },
    {
      "cell_type": "code",
      "source": [
        "import matplotlib.pyplot as plt\n",
        "import numpy as np\n",
        "\n",
        "fig, ax = plt.subplots()\n",
        "xmin, xmax = -0.2, 1.4\n",
        "X = np.arange(xmin, xmax, 0.1)\n",
        "ax.scatter(0, 0, color=\"r\")\n",
        "ax.scatter(0, 1, color=\"r\")\n",
        "ax.scatter(1, 0, color=\"r\")\n",
        "ax.scatter(1, 1, color=\"g\")\n",
        "ax.set_xlim([xmin, xmax])\n",
        "ax.set_ylim([-0.1, 1.1])\n",
        "m,c = -1,1.2\n",
        "ax.plot(X, m*X+c)\n",
        "plt.plot()\n"
      ],
      "metadata": {
        "id": "5P-5K4I67F9K",
        "colab": {
          "base_uri": "https://localhost:8080/",
          "height": 284
        },
        "outputId": "4a123fee-26d5-4b09-dc56-ba7de13ec949"
      },
      "execution_count": null,
      "outputs": [
        {
          "output_type": "execute_result",
          "data": {
            "text/plain": [
              "[]"
            ]
          },
          "metadata": {},
          "execution_count": 11
        },
        {
          "output_type": "display_data",
          "data": {
            "text/plain": [
              "<Figure size 432x288 with 1 Axes>"
            ],
            "image/png": "[encoded data removed]"
          },
          "metadata": {
            "needs_background": "light"
          }
        }
      ]
    },
    {
      "cell_type": "markdown",
      "source": [
        "Ici, on a modifie le bout de code precedent celui-ci, afin de generer un bon separateur des elements de nos deux classes. \n",
        "Pour rendre ceci possible, le separateur lineaire precendent ayant la forme y=mx a ete ajuste sous forme y=mx+c ou c, l'ordonnee a l'origine est differente de 0."
      ],
      "metadata": {
        "id": "7k0UuWj984ay"
      }
    },
    {
      "cell_type": "code",
      "source": [
        "import numpy as np\n",
        "from collections import Counter\n",
        "\n",
        "# On cree un classe perceptron\n",
        "class Perceptron:\n",
        "  def __init__ (self, weigths, bias=1, learning_rate=0.3):\n",
        "    # Initialisation de nos variables\n",
        "    self.weights = np.array(weights)\n",
        "    self.bias = bias\n",
        "    self.learning_rate = learning_rate\n",
        "\n",
        "  def unit_step_function(x):\n",
        "    if x <= 0:\n",
        "      return 0\n",
        "    else:\n",
        "      return 1\n",
        "\n",
        "  def __call__(self, in_data):\n",
        "    # On concatene le biais aux entrees(in_data)\n",
        "    in_data = np.concatenate( (in_data, [self.bias]) )\n",
        "    # On pondere chaque poids a l'entree correspondante\n",
        "    result = self.weights @ in_data\n",
        "    # Activation\n",
        "    return Perceptron.unit_step_function(result)\n",
        "\n",
        "  def adjust(self, target_result, in_data):\n",
        "    # On convertit les entrees en tableau numpy si elles ne le sont pas\n",
        "    if type(in_data) != np.ndarray:\n",
        "      in_data = np.array(in_data)\n",
        "    # Calcul de l'erreur \n",
        "    calculated_result = self(in_data) # On conserve les labels des observations devant constituer le jeu de test\n",
        "    error = target_result - calculated_result\n",
        "    # Mise a jour des poids\n",
        "    if error != 0:\n",
        "      in_data = np.concatenate( (in_data, [self.bias]) )\n",
        "      correction = error * in_data * self.learning_rate\n",
        "      self.weights += correction\n",
        "\n",
        "  def evaluate(self, data, labels):\n",
        "    evaluation = Counter()\n",
        "    for sample, label in zip(data, labels):# Pour une obsevation dans l'ensemble des tuples,\n",
        "      # On fait la prediction\n",
        "      result = self(sample) \n",
        "      if result == label: # Si la prediction est bonne, on retourne correct sinon on retourne false\n",
        "        evaluation[\"correct\"] += 1\n",
        "      else:\n",
        "        evaluation[\"wrong\"] += 1\n",
        "    return evaluation"
      ],
      "metadata": {
        "id": "uYud9fnj_3mK"
      },
      "execution_count": null,
      "outputs": []
    },
    {
      "cell_type": "markdown",
      "source": [
        "Dans ce bout de code, il est question de definir notre pereptron ainsi que les differentes fonctions qui vont aider a sa construction. "
      ],
      "metadata": {
        "id": "kKV0phehPu5R"
      }
    },
    {
      "cell_type": "code",
      "source": [
        "import numpy as np\n",
        "from collections import Counter\n",
        "import numpy as np\n",
        "\n",
        "# On cree un classe perceptron\n",
        "class Perceptron:\n",
        "  # On definit notre perceptron en initialisant ses poids, le biais et le taux d'apprentissage\n",
        "  def __init__ (self, weigths, bias=1, learning_rate=0.3):\n",
        "    self.weigths = np.array(weigths)\n",
        "    self.bias = bias\n",
        "    self.learning_rate = learning_rate\n",
        "\n",
        "  def unit_step_function(x):\n",
        "    if x <= 0:\n",
        "      return 0\n",
        "    else:\n",
        "      return 1\n",
        "\n",
        "  def __call__(self, in_data):\n",
        "    in_data = np.concatenate( (in_data, [self.bias]) )\n",
        "    result = self.weigths @ in_data\n",
        "    return Perceptron.unit_step_function(result)\n",
        "\n",
        "  def adjust(self, target_result, in_data):\n",
        "    # On converti les entrees en tableau numpy si elles ne le sont pas\n",
        "    if type(in_data) != np.ndarray:\n",
        "      in_data = np.array(in_data)\n",
        "     \n",
        "    calculated_result = self(in_data)\n",
        "    error = target_result - calculated_result\n",
        "    if error != 0:\n",
        "      in_data = np.concatenate( (in_data, [self.bias]) )\n",
        "      correction = error * in_data * self.learning_rate\n",
        "      self.weigths += correction\n",
        "\n",
        "  def evaluate(self, data, labels):\n",
        "    evaluation = Counter()\n",
        "    for sample, label in zip(data, labels):\n",
        "      # Ont fait la prediction\n",
        "      result = self(sample) \n",
        "      if result == label:\n",
        "        evaluation[\"correct\"] += 1\n",
        "      else:\n",
        "        evaluation[\"wrong\"] += 1\n",
        "    return evaluation\n",
        "\n",
        "def labelled_samples(n):\n",
        "  for _ in range(n):\n",
        "    # On genere un nombre entre 0 et 2 qu'on range dans une array liste de taille 2\n",
        "    s = np.random.randint(0, 2, (2,))\n",
        "    # Pour chaque composnte de s generee, on l'etiquete a 1 ou a 0 selon que la condition est respectee\n",
        "    yield (s, 1) if s[0] == 1 and s[1] == 1 else (s, 0)\n",
        "  \n",
        "# On instancie le perceptron\n",
        "p = Perceptron(weigths=[0.3, 0.3, 0.3],learning_rate=0.2)\n",
        "#   \n",
        "for in_data, label in labelled_samples(30):\n",
        "  p.adjust(label, in_data)\n",
        "  test_data, test_labels = list(zip(*labelled_samples(30)))\n",
        "  evaluation = p.evaluate(test_data, test_labels)\n",
        "print(evaluation)\n"
      ],
      "metadata": {
        "colab": {
          "base_uri": "https://localhost:8080/"
        },
        "id": "wcAyeKu6PwYz",
        "outputId": "52889364-c1f4-4baf-9f21-c80af46e1d05"
      },
      "execution_count": null,
      "outputs": [
        {
          "output_type": "stream",
          "name": "stdout",
          "text": [
            "Counter({'correct': 30})\n"
          ]
        }
      ]
    },
    {
      "cell_type": "markdown",
      "source": [
        "Ici, il est question de de l'apprentissage du perceptron construit. Dans la fonction labelled_samples(), on genere des etiquettes a des observations. De cet ensemble de donnee generees, on ajuste les poids puis on evalue. On obtient 30 donnees correctement classes sur les 30 generees."
      ],
      "metadata": {
        "id": "XE122JFJVzsx"
      }
    },
    {
      "cell_type": "code",
      "source": [
        "import numpy as np\n",
        "from collections import Counter\n",
        "import numpy as np\n",
        "\n",
        "# On cree un classe perceptron\n",
        "class Perceptron:\n",
        "  # On definit notre perceptron en initialisant ses poids, le biais et le taux d'apprentissage\n",
        "  def __init__ (self, weigths, bias=1, learning_rate=0.3):\n",
        "    self.weigths = np.array(weigths)\n",
        "    self.bias = bias\n",
        "    self.learning_rate = learning_rate\n",
        "\n",
        "  def unit_step_function(x):\n",
        "    if x <= 0:\n",
        "      return 0\n",
        "    else:\n",
        "      return 1\n",
        "\n",
        "  def __call__(self, in_data):\n",
        "    in_data = np.concatenate( (in_data, [self.bias]) )\n",
        "    result = self.weigths @ in_data\n",
        "    return Perceptron.unit_step_function(result)\n",
        "\n",
        "  def adjust(self, target_result, in_data):\n",
        "    if type(in_data) != np.ndarray:\n",
        "      in_data = np.array(in_data) \n",
        "    calculated_result = self(in_data)\n",
        "    error = target_result - calculated_result\n",
        "    if error != 0:\n",
        "      in_data = np.concatenate( (in_data, [self.bias]) )\n",
        "      correction = error * in_data * self.learning_rate\n",
        "      self.weigths += correction\n",
        "\n",
        "  def evaluate(self, data, labels):\n",
        "    evaluation = Counter()\n",
        "    for sample, label in zip(data, labels):\n",
        "      # Ont fait la prediction\n",
        "      result = self(sample) \n",
        "      if result == label:\n",
        "        evaluation[\"correct\"] += 1\n",
        "      else:\n",
        "        evaluation[\"wrong\"] += 1\n",
        "    return evaluation\n",
        "\n",
        "fig, ax = plt.subplots()\n",
        "xmin, xmax = -0.2, 1.4\n",
        "X = np.arange(xmin, xmax, 0.1)\n",
        "ax.scatter(0, 0, color=\"r\")\n",
        "ax.scatter(0, 1, color=\"r\")\n",
        "ax.scatter(1, 0, color=\"r\")\n",
        "ax.scatter(1, 1, color=\"g\")\n",
        "ax.set_xlim([xmin, xmax])\n",
        "ax.set_ylim([-0.1, 1.1])\n",
        "# On ajuste la pente \n",
        "m = -p.weigths[0] / p.weigths[1]\n",
        "# On ajuste l'intercept c\n",
        "c = -p.weigths[2] / p.weigths[1]\n",
        "print(m, c)\n",
        "ax.plot(X, m*X+c)\n",
        "plt.plot()"
      ],
      "metadata": {
        "colab": {
          "base_uri": "https://localhost:8080/",
          "height": 302
        },
        "id": "aEVC4qFEQeUC",
        "outputId": "c8324aea-bc02-4321-abec-b0a618539242"
      },
      "execution_count": null,
      "outputs": [
        {
          "output_type": "stream",
          "name": "stdout",
          "text": [
            "-3.0000000000000004 3.0000000000000013\n"
          ]
        },
        {
          "output_type": "execute_result",
          "data": {
            "text/plain": [
              "[]"
            ]
          },
          "metadata": {},
          "execution_count": 9
        },
        {
          "output_type": "display_data",
          "data": {
            "text/plain": [
              "<Figure size 432x288 with 1 Axes>"
            ],
            "image/png": "[encoded data removed]"
          },
          "metadata": {
            "needs_background": "light"
          }
        }
      ]
    },
    {
      "cell_type": "markdown",
      "source": [
        "Dans ce bout de code, on entraine notre perceptron (a deux entrees plus un biais et a une sortie) a separer les donnees non pas de facon analogue mais de maniere semantique. A partir de la nouvelle equation du perceptron (avec en ajout un biais), la pente et la constante c (intercept) on a genere un separateur lineaire pour nos donnees."
      ],
      "metadata": {
        "id": "ihY0TFghDDjS"
      }
    },
    {
      "cell_type": "code",
      "source": [
        "# Importation du module qui va aider a generer les elements de nos classes\n",
        "from sklearn.datasets import make_blobs\n",
        "\n",
        "n_samples = 250 #Nombre d'echantillons \n",
        "# Generation pour chacune des classes, les echantillons et labels associes ainsi que leur centre\n",
        "samples, labels = make_blobs(n_samples, centers=([2.5, 3], [6.7, 7.9]), random_state=0)"
      ],
      "metadata": {
        "id": "JnDqW5DeSbds"
      },
      "execution_count": null,
      "outputs": []
    },
    {
      "cell_type": "markdown",
      "source": [
        "Dans ce bout de code, il est question de créer un autre exemple avec des ensembles de données qui sera soumis a notre perceptron pour un test. La fonction make_blobs de sklearn.datasets ainsi utilisee va permettre de générer des blobs gaussiens isotropes pour la classification.\n",
        "\n"
      ],
      "metadata": {
        "id": "bslvPN--UwJS"
      }
    },
    {
      "cell_type": "code",
      "source": [
        "import matplotlib.pyplot as plt\n",
        "\n",
        "colours = ('green', 'magenta', 'blue', 'cyan', 'yellow', 'red')\n",
        "fig, ax = plt.subplots()\n",
        "\n",
        "for n_class in range(2):\n",
        "  ax.scatter(samples[labels==n_class][:, 0], samples[labels==n_class][:, 1], c=colours[n_class], s=40, label=str(n_class))"
      ],
      "metadata": {
        "colab": {
          "base_uri": "https://localhost:8080/",
          "height": 265
        },
        "id": "dkq6SjslYFbn",
        "outputId": "036d1da2-876e-40f0-c3cf-a7752e89ebab"
      },
      "execution_count": null,
      "outputs": [
        {
          "output_type": "display_data",
          "data": {
            "text/plain": [
              "<Figure size 432x288 with 1 Axes>"
            ],
            "image/png": "[encoded data removed]"
          },
          "metadata": {
            "needs_background": "light"
          }
        }
      ]
    },
    {
      "cell_type": "markdown",
      "source": [
        "Dans cette partie, il est question de visualiser les donnees generees dans le bout de code precedent celui-ci"
      ],
      "metadata": {
        "id": "IJ_DaIjKZrNx"
      }
    },
    {
      "cell_type": "code",
      "source": [
        "import numpy as np\n",
        "from collections import Counter\n",
        "import numpy as np\n",
        "\n",
        "# On cree un classe perceptron\n",
        "class Perceptron:\n",
        "  # On definit notre perceptron en initialisant ses poids, le biais et le taux d'apprentissage\n",
        "  def __init__ (self, weigths, bias=1, learning_rate=0.3):\n",
        "    self.weigths = np.array(weigths)\n",
        "    self.bias = bias\n",
        "    self.learning_rate = learning_rate\n",
        "\n",
        "  def unit_step_function(x):\n",
        "    if x <= 0:\n",
        "      return 0\n",
        "    else:\n",
        "      return 1\n",
        "\n",
        "  def __call__(self, in_data):\n",
        "    in_data = np.concatenate( (in_data, [self.bias]) )\n",
        "    result = self.weigths @ in_data\n",
        "    return Perceptron.unit_step_function(result)\n",
        "\n",
        "  def adjust(self, target_result, in_data):\n",
        "    if type(in_data) != np.ndarray:\n",
        "      in_data = np.array(in_data) \n",
        "    calculated_result = self(in_data)\n",
        "    error = target_result - calculated_result\n",
        "    if error != 0:\n",
        "      in_data = np.concatenate( (in_data, [self.bias]) )\n",
        "      correction = error * in_data * self.learning_rate\n",
        "      self.weigths += correction\n",
        "\n",
        "  def evaluate(self, data, labels):\n",
        "    evaluation = Counter()\n",
        "    for sample, label in zip(data, labels):\n",
        "      # Ont fait la prediction\n",
        "      result = self(sample) \n",
        "      if result == label:\n",
        "        evaluation[\"correct\"] += 1\n",
        "      else:\n",
        "        evaluation[\"wrong\"] += 1\n",
        "    return evaluation\n",
        "\n",
        "# Methode d'evaluation du perceptron \n",
        "n_learn_data = int(n_samples * 0.8) # On extrait 80% des points de donnees generes\n",
        "learn_data, test_data = samples[:n_learn_data], samples[-n_learn_data:]\n",
        "learn_labels, test_labels = labels[:n_learn_data], labels[-n_learn_data:]\n",
        "\n",
        "p = Perceptron(weigths=[0.3, 0.3, 0.3],\n",
        "learning_rate=0.8)\n",
        "for sample, label in zip(learn_data, learn_labels):\n",
        "  p.adjust(label, sample)\n",
        "  evaluation = p.evaluate(learn_data, learn_labels)\n",
        "print(evaluation)"
      ],
      "metadata": {
        "colab": {
          "base_uri": "https://localhost:8080/"
        },
        "id": "AxsZf6axbcDr",
        "outputId": "0c93dfee-7524-425b-b847-59676377ca82"
      },
      "execution_count": null,
      "outputs": [
        {
          "output_type": "stream",
          "name": "stdout",
          "text": [
            "Counter({'correct': 200})\n"
          ]
        }
      ]
    },
    {
      "cell_type": "markdown",
      "source": [
        "Dans cette, partie on evalue les donnees qui ont prealablement ete generees puis on retourne le nombre d'observations qui ont ete bien classees (Soit 200 observations bien classees)."
      ],
      "metadata": {
        "id": "imPWMGpBKow9"
      }
    },
    {
      "cell_type": "code",
      "source": [
        "import numpy as np\n",
        "from collections import Counter\n",
        "import numpy as np\n",
        "import matplotlib.pyplot as plt\n",
        "\n",
        "# On cree un classe perceptron\n",
        "class Perceptron:\n",
        "  # On definit notre perceptron en initialisant ses poids, le biais et le taux d'apprentissage\n",
        "  def __init__ (self, weigths, bias=1, learning_rate=0.3):\n",
        "    self.weigths = np.array(weigths)\n",
        "    self.bias = bias\n",
        "    self.learning_rate = learning_rate\n",
        "\n",
        "  def unit_step_function(x):\n",
        "    if x <= 0:\n",
        "      return 0\n",
        "    else:\n",
        "      return 1\n",
        "\n",
        "  def __call__(self, in_data):\n",
        "    in_data = np.concatenate( (in_data, [self.bias]) )\n",
        "    result = self.weigths @ in_data\n",
        "    return Perceptron.unit_step_function(result)\n",
        "\n",
        "  def adjust(self, target_result, in_data):\n",
        "    if type(in_data) != np.ndarray:\n",
        "      in_data = np.array(in_data) \n",
        "    calculated_result = self(in_data)\n",
        "    error = target_result - calculated_result\n",
        "    if error != 0:\n",
        "      in_data = np.concatenate( (in_data, [self.bias]) )\n",
        "      correction = error * in_data * self.learning_rate\n",
        "      self.weigths += correction\n",
        "\n",
        "  def evaluate(self, data, labels):\n",
        "    evaluation = Counter()\n",
        "    for sample, label in zip(data, labels):\n",
        "      # Ont fait la prediction\n",
        "      result = self(sample) \n",
        "      if result == label:\n",
        "        evaluation[\"correct\"] += 1\n",
        "      else:\n",
        "        evaluation[\"wrong\"] += 1\n",
        "    return evaluation\n",
        "\n",
        "# Construction des donnees d'apprentissage\n",
        "fig, ax = plt.subplots()\n",
        "colours = ('green', 'blue') # Couleur des observations de chacune des classes pour le jeu d'apprentissage\n",
        "for n_class in range(2):\n",
        "  ax.scatter(learn_data[learn_labels==n_class][:, 0], learn_data[learn_labels==n_class][:, 1],\n",
        "            c=colours[n_class], s=40, label=str(n_class))\n",
        "\n",
        "# Construction des donnees de test\n",
        "colours = ('lightgreen', 'lightblue')\n",
        "for n_class in range(2):\n",
        "  ax.scatter(test_data[test_labels==n_class][:, 0], test_data[test_labels==n_class][:, 1], \n",
        "             c=colours[n_class], s=40, label=str(n_class))\n",
        "\n",
        "# Construction du separateur \n",
        "X = np.arange(np.max(samples[:,0]))\n",
        "m = -p.weigths[0] / p.weigths[1]\n",
        "c = -p.weigths[2] / p.weigths[1]\n",
        "print(m, c)\n",
        "ax.plot(X, m * X + c ) \n",
        "plt.plot()\n",
        "plt.show()  \n"
      ],
      "metadata": {
        "colab": {
          "base_uri": "https://localhost:8080/",
          "height": 284
        },
        "id": "t-qLx_A6gORd",
        "outputId": "2bafb82e-e755-4cb9-a233-217a0dd6d3bf"
      },
      "execution_count": null,
      "outputs": [
        {
          "output_type": "stream",
          "name": "stdout",
          "text": [
            "-1.5513529034664024 11.736643489707035\n"
          ]
        },
        {
          "output_type": "display_data",
          "data": {
            "text/plain": [
              "<Figure size 432x288 with 1 Axes>"
            ],
            "image/png": "[encoded data removed]"
          },
          "metadata": {
            "needs_background": "light"
          }
        }
      ]
    },
    {
      "cell_type": "markdown",
      "source": [
        "Une fois qu'on a evalue les donnees generees et qu'on est rassure que notre modele append bien, place a la visualisation. Ainsi, dans ce bout de code, il est question de visualiser la separation de nos deux classes sur les donnees d'apprentissage et de test generees."
      ],
      "metadata": {
        "id": "lElPpjg0N-mT"
      }
    },
    {
      "cell_type": "code",
      "source": [
        "import numpy as np\n",
        "from collections import Counter\n",
        "import numpy as np\n",
        "import matplotlib.pyplot as plt\n",
        "\n",
        "# On cree un classe perceptron\n",
        "class Perceptron:\n",
        "  # On definit notre perceptron en initialisant ses poids, le biais et le taux d'apprentissage\n",
        "  def __init__ (self, weigths, bias=1, learning_rate=0.3):\n",
        "    self.weigths = np.array(weigths)\n",
        "    self.bias = bias\n",
        "    self.learning_rate = learning_rate\n",
        "\n",
        "  def unit_step_function(x):\n",
        "    if x <= 0:\n",
        "      return 0\n",
        "    else:\n",
        "      return 1\n",
        "\n",
        "  def __call__(self, in_data):\n",
        "    in_data = np.concatenate( (in_data, [self.bias]) )\n",
        "    result = self.weigths @ in_data\n",
        "    return Perceptron.unit_step_function(result)\n",
        "\n",
        "  def adjust(self, target_result, in_data):\n",
        "    if type(in_data) != np.ndarray:\n",
        "      in_data = np.array(in_data) \n",
        "    calculated_result = self(in_data)\n",
        "    error = target_result - calculated_result\n",
        "    if error != 0:\n",
        "      in_data = np.concatenate( (in_data, [self.bias]) )\n",
        "      correction = error * in_data * self.learning_rate\n",
        "      self.weigths += correction\n",
        "\n",
        "  def evaluate(self, data, labels):\n",
        "    evaluation = Counter()\n",
        "    for sample, label in zip(data, labels):\n",
        "      # Ont fait la prediction\n",
        "      result = self(sample) \n",
        "      if result == label:\n",
        "        evaluation[\"correct\"] += 1\n",
        "      else:\n",
        "        evaluation[\"wrong\"] += 1\n",
        "    return evaluation\n",
        "# On instancie notre perceptron\n",
        "p = Perceptron(weigths=[0.3, 0.3, 0.3],\n",
        "bias=1,\n",
        "learning_rate=0.2)\n",
        "\n",
        "#  On etiquettes les donnes de test puis on passe a evaluation et on genere les donnees correctement predites et celles ne l'etant pas\n",
        "def labelled_samples(n):\n",
        "  # On genere des etiquettes a nos donnees de test\n",
        "  for _ in range(n):\n",
        "    s = np.random.random((2,))\n",
        "    # on classe les ponts selon qu'ils respectent la condition donnee\n",
        "    yield (s, 1) if s[0] >= 0.5 and s[1] >= 0.5 else (s, 0)\n",
        "for in_data, label in labelled_samples(30): # Pour chaque tuple dans l'ensemble de tuples precedemment etiquetes,\n",
        "  p.adjust(label, in_data) #On ajuste les poids\n",
        "test_data, test_labels = list(zip(*labelled_samples(60))) # Nos donnees de tests et leurs etiquettes associees deviennent les 60 premieres observations de l'ensembles des tuples prealablement etiquettes\n",
        "evaluation = p.evaluate(test_data, test_labels) # on evalue les 60 tuples generees\n",
        "print(evaluation) # on affiche le resultat"
      ],
      "metadata": {
        "colab": {
          "base_uri": "https://localhost:8080/"
        },
        "id": "jIoBa2O1-WPP",
        "outputId": "ba97a36e-189b-488f-f56a-25068d69e6e3"
      },
      "execution_count": null,
      "outputs": [
        {
          "output_type": "stream",
          "name": "stdout",
          "text": [
            "Counter({'correct': 49, 'wrong': 11})\n"
          ]
        }
      ]
    },
    {
      "cell_type": "markdown",
      "source": [
        "Dans ce bout de code il est question de l'apprentissage du perceptron.\n",
        "Dans la fonction labelled_samples(), on genere des etiquettes a des observations (Un point sera de classe 1 si la premiere operande ou la deuxieme est superiere ou egale a 0.5, il sera de classe 0 sinon). De cet ensemble de donnee generees et etiquettees, on ajuste les poids puis on evalue. On obtient 49 donnees correctement classes et 11 incorrectement classees sur les 60 generees.\n",
        "Notre perceptron n'apprend donc pas correctement."
      ],
      "metadata": {
        "id": "nqTNQTCjVLvl"
      }
    },
    {
      "cell_type": "code",
      "source": [
        "import matplotlib.pyplot as plt\n",
        "import numpy as np\n",
        "\n",
        "ones = [test_data[i] for i in range(len(test_data)) if test_labels[i] == 1]\n",
        "zeroes = [test_data[i] for i in range(len(test_data)) if test_labels[i] == 0]\n",
        "\n",
        "fig, ax = plt.subplots()\n",
        "xmin, xmax = -0.2, 1.2\n",
        "X, Y = list(zip(*ones))\n",
        "ax.scatter(X, Y, color=\"g\")\n",
        "X, Y = list(zip(*zeroes))\n",
        "ax.scatter(X, Y, color=\"r\")\n",
        "ax.set_xlim([xmin, xmax])\n",
        "ax.set_ylim([-0.1, 1.1])\n",
        "c = -p.weights[2] / p.weights[1]\n",
        "m = -p.weights[0] / p.weights[1]\n",
        "X = np.arange(xmin, xmax, 0.1)\n",
        "ax.plot(X, m * X + c, label=\"decision boundary\")"
      ],
      "metadata": {
        "colab": {
          "base_uri": "https://localhost:8080/",
          "height": 284
        },
        "id": "Bd0KqzDzA97Y",
        "outputId": "c6491da3-62a2-4bbe-947f-ca593151a48d"
      },
      "execution_count": null,
      "outputs": [
        {
          "output_type": "execute_result",
          "data": {
            "text/plain": [
              "[<matplotlib.lines.Line2D at 0x7f4d75fd2290>]"
            ]
          },
          "metadata": {},
          "execution_count": 22
        },
        {
          "output_type": "display_data",
          "data": {
            "text/plain": [
              "<Figure size 432x288 with 1 Axes>"
            ],
            "image/png": "[encoded data removed]"
          },
          "metadata": {
            "needs_background": "light"
          }
        }
      ]
    },
    {
      "cell_type": "code",
      "source": [
        "import numpy as np\n",
        "from collections import Counter\n",
        "import matplotlib.pyplot as plt\n",
        "\n",
        "# On cree un classe perceptron\n",
        "class Perceptron:\n",
        "  # On definit notre perceptron en initialisant ses poids, le biais et le taux d'apprentissage\n",
        "  def __init__ (self, weights, bias=1, learning_rate=0.3):\n",
        "    self.weights = np.array(weights)\n",
        "    self.bias = bias\n",
        "    self.learning_rate = learning_rate\n",
        "\n",
        "  def unit_step_function(x):\n",
        "    if x <= 0:\n",
        "      return 0\n",
        "    else:\n",
        "      return 1\n",
        "\n",
        "  def __call__(self, in_data):\n",
        "    in_data = np.concatenate( (in_data, [self.bias]) )\n",
        "    result = self.weights @ in_data\n",
        "    return Perceptron.unit_step_function(result)\n",
        "\n",
        "  def adjust(self, target_result, in_data):\n",
        "    if type(in_data) != np.ndarray:\n",
        "      in_data = np.array(in_data) \n",
        "    calculated_result = self(in_data)\n",
        "    error = target_result - calculated_result\n",
        "    if error != 0:\n",
        "      in_data = np.concatenate( (in_data, [self.bias]) )\n",
        "      correction = error * in_data * self.learning_rate\n",
        "      self.weights += correction\n",
        "\n",
        "  def evaluate(self, data, labels):\n",
        "    evaluation = Counter()\n",
        "    for sample, label in zip(data, labels):\n",
        "      # Ont fait la prediction\n",
        "      result = self(sample) \n",
        "      if result == label:\n",
        "        evaluation[\"correct\"] += 1\n",
        "      else:\n",
        "        evaluation[\"wrong\"] += 1\n",
        "    return evaluation\n",
        "\n",
        "p = Perceptron(weights=[0.3, 0.3, 0.3], learning_rate=0.4)\n",
        "\n",
        "def labelled_samples(n):\n",
        "  for _ in range(n):\n",
        "    s = np.random.random((2,))\n",
        "    yield (s, 0) if s[0] < 0.5 else (s, 1)\n",
        "\n",
        "p = Perceptron(weights=[0.3, 0.3, 0.3],\n",
        "learning_rate=0.4)\n",
        "for in_data, label in labelled_samples(300):\n",
        "  p.adjust(label, in_data)\n",
        "test_data, test_labels = list(zip(*labelled_samples(500)))\n",
        "print(p.weights)\n",
        "p.evaluate(test_data, test_labels)"
      ],
      "metadata": {
        "colab": {
          "base_uri": "https://localhost:8080/"
        },
        "id": "Ad-_8x1WDU_1",
        "outputId": "2d5a217d-413b-4c36-924e-0c823a456e03"
      },
      "execution_count": null,
      "outputs": [
        {
          "output_type": "stream",
          "name": "stdout",
          "text": [
            "[ 2.08919272 -0.39189358 -0.9       ]\n"
          ]
        },
        {
          "output_type": "execute_result",
          "data": {
            "text/plain": [
              "Counter({'correct': 467, 'wrong': 33})"
            ]
          },
          "metadata": {},
          "execution_count": 31
        }
      ]
    },
    {
      "cell_type": "code",
      "source": [
        "import matplotlib.pyplot as plt\n",
        "import numpy as np\n",
        "ones = [test_data[i] for i in range(len(test_data)) if test_labels[i] == 1]\n",
        "zeroes = [test_data[i] for i in range(len(test_data)) if test_labels[i] == 0]\n",
        "fig, ax = plt.subplots()\n",
        "xmin, xmax = -0.2, 1.2\n",
        "X, Y = list(zip(*ones))\n",
        "ax.scatter(X, Y, color=\"g\")\n",
        "X, Y = list(zip(*zeroes))\n",
        "ax.scatter(X, Y, color=\"r\")\n",
        "ax.set_xlim([xmin, xmax])\n",
        "ax.set_ylim([-0.1, 1.1])\n",
        "c = -p.weights[2] / p.weights[1]\n",
        "m = -p.weights[0] / p.weights[1]\n",
        "X = np.arange(xmin, xmax, 0.1)\n",
        "ax.plot(X, m * X + c, label=\"decision boundary\")"
      ],
      "metadata": {
        "colab": {
          "base_uri": "https://localhost:8080/",
          "height": 284
        },
        "id": "WmbXRIguNm1o",
        "outputId": "6a099ff1-0bbe-462c-ec3e-45aa21b503c3"
      },
      "execution_count": null,
      "outputs": [
        {
          "output_type": "execute_result",
          "data": {
            "text/plain": [
              "[<matplotlib.lines.Line2D at 0x7f4d76045b10>]"
            ]
          },
          "metadata": {},
          "execution_count": 33
        },
        {
          "output_type": "display_data",
          "data": {
            "text/plain": [
              "<Figure size 432x288 with 1 Axes>"
            ],
            "image/png": "[encoded data removed]"
          },
          "metadata": {
            "needs_background": "light"
          }
        }
      ]
    },
    {
      "cell_type": "markdown",
      "source": [
        " **STRUCTURE,POIDS ET MATRICES DANS LES RESEAUX DE NEURONES**"
      ],
      "metadata": {
        "id": "zvg4CuAYdroK"
      }
    },
    {
      "cell_type": "code",
      "source": [
        "import numpy as np\n",
        "input_vector = np.array([2, 4, 11])\n",
        "print(input_vector)"
      ],
      "metadata": {
        "colab": {
          "base_uri": "https://localhost:8080/"
        },
        "id": "-8N8yC1aeaRl",
        "outputId": "3471ca71-f1f4-4ff0-dae2-baaa60663ff9"
      },
      "execution_count": null,
      "outputs": [
        {
          "output_type": "stream",
          "name": "stdout",
          "text": [
            "[ 2  4 11]\n"
          ]
        }
      ]
    },
    {
      "cell_type": "markdown",
      "source": [
        "Ici il etait question de definir le vecteur d'entree de notre reseau de neurones. Dans notre cas il possede 3 entrees"
      ],
      "metadata": {
        "id": "gJ0rqGfje86B"
      }
    },
    {
      "cell_type": "code",
      "source": [
        "import numpy as np\n",
        "input_vector = np.array([2, 4, 11])\n",
        "input_vector = np.array(input_vector, ndmin=2).T\n",
        "print(\"The input vector:\\n\", input_vector)\n",
        "print(\"The shape of this vector: \", input_vector.shape)"
      ],
      "metadata": {
        "colab": {
          "base_uri": "https://localhost:8080/"
        },
        "id": "xZStacJIfS4b",
        "outputId": "838db914-cb6b-4c80-8703-1864079bb490"
      },
      "execution_count": null,
      "outputs": [
        {
          "output_type": "stream",
          "name": "stdout",
          "text": [
            "The input vector:\n",
            " [[ 2]\n",
            " [ 4]\n",
            " [11]]\n",
            "The shape of this vector:  (3, 1)\n"
          ]
        }
      ]
    },
    {
      "cell_type": "markdown",
      "source": [
        "Il est ensuite question de le transposer car dans nos futurs algorithmes on utilise les vecteurs colonnes en entrees"
      ],
      "metadata": {
        "id": "cB50FhqyfZ-Q"
      }
    },
    {
      "cell_type": "code",
      "source": [
        "import numpy as np\n",
        "number_of_samples = 1200\n",
        "low = -1\n",
        "high = 0\n",
        "s = np.random.uniform(low, high, number_of_samples)\n",
        "# Les valeurs sont comprises dans l'intervalle  [-1, 0) :\n",
        "print(np.all(s >= -1) and np.all(s < 0))"
      ],
      "metadata": {
        "colab": {
          "base_uri": "https://localhost:8080/"
        },
        "id": "B1YbEoySfqM4",
        "outputId": "6329e2ac-349a-4e9e-be5e-71ffce95db1c"
      },
      "execution_count": null,
      "outputs": [
        {
          "output_type": "stream",
          "name": "stdout",
          "text": [
            "True\n"
          ]
        }
      ]
    },
    {
      "cell_type": "markdown",
      "source": [
        "Il etait question ici de creer 1200 observations compris entre 0 et 1 de maniere aleatoire"
      ],
      "metadata": {
        "id": "GV9571NZg71H"
      }
    },
    {
      "cell_type": "code",
      "source": [
        "import matplotlib.pyplot as plt\n",
        "plt.hist(s)\n",
        "plt.show()"
      ],
      "metadata": {
        "colab": {
          "base_uri": "https://localhost:8080/",
          "height": 265
        },
        "id": "lonbgpwthTZz",
        "outputId": "0c899339-5249-45f0-8ec2-9ebb3741a436"
      },
      "execution_count": null,
      "outputs": [
        {
          "output_type": "display_data",
          "data": {
            "text/plain": [
              "<Figure size 432x288 with 1 Axes>"
            ],
            "image/png": "[encoded data removed]"
          },
          "metadata": {
            "needs_background": "light"
          }
        }
      ]
    },
    {
      "cell_type": "markdown",
      "source": [
        "Atravers cet histogramme on constate que les observations crees de manieres aleatoires sont suffisamment representatives de l'espace et ceci grace a l a fonction np.random.uniform"
      ],
      "metadata": {
        "id": "PaAaHh27hZwY"
      }
    },
    {
      "cell_type": "code",
      "source": [
        "s = np.random.binomial(100, 0.5, 1200)\n",
        "plt.hist(s)\n",
        "plt.show()"
      ],
      "metadata": {
        "colab": {
          "base_uri": "https://localhost:8080/",
          "height": 265
        },
        "id": "lDixXOaihy0e",
        "outputId": "68e10797-1431-423f-c00e-41455f827ef1"
      },
      "execution_count": null,
      "outputs": [
        {
          "output_type": "display_data",
          "data": {
            "text/plain": [
              "<Figure size 432x288 with 1 Axes>"
            ],
            "image/png": "[encoded data removed]"
          },
          "metadata": {
            "needs_background": "light"
          }
        }
      ]
    },
    {
      "cell_type": "markdown",
      "source": [
        "Ici les observations suivent une loi binomiale car on a utiliser la fonction numpy binomiale."
      ],
      "metadata": {
        "id": "p9zJO-7YjSZT"
      }
    },
    {
      "cell_type": "code",
      "source": [
        "from scipy.stats import truncnorm\n",
        "s = truncnorm(a=-2/3., b=2/3., scale=1, loc=0).rvs(size=1000)\n",
        "plt.hist(s)\n",
        "plt.show()"
      ],
      "metadata": {
        "colab": {
          "base_uri": "https://localhost:8080/",
          "height": 268
        },
        "id": "cq7nGA-1jjvG",
        "outputId": "aa3ab8d5-8e07-4174-8c7c-ace8b51db654"
      },
      "execution_count": null,
      "outputs": [
        {
          "output_type": "display_data",
          "data": {
            "text/plain": [
              "<Figure size 432x288 with 1 Axes>"
            ],
            "image/png": "[encoded data removed]"
          },
          "metadata": {
            "needs_background": "light"
          }
        }
      ]
    },
    {
      "cell_type": "markdown",
      "source": [
        "Ici on a utilise la forme normale de troncature cependant pour faciliter la tache on va creer une fonction de troncature qui sera utiliser par la suite:"
      ],
      "metadata": {
        "id": "06vSMgZ3j7Bq"
      }
    },
    {
      "cell_type": "code",
      "source": [
        "def truncated_normal(mean=0, sd=1, low=0, upp=10):\n",
        "  return truncnorm((low - mean) / sd, (upp - mean) / sd, loc=mean, scale=sd)\n",
        "X = truncated_normal(mean=0, sd=0.4, low=-0.5, upp=0.5)\n",
        "s = X.rvs(10000)\n",
        "plt.hist(s)\n",
        "plt.show()"
      ],
      "metadata": {
        "colab": {
          "base_uri": "https://localhost:8080/",
          "height": 265
        },
        "id": "8Wp_tL-SkKs6",
        "outputId": "f4ce63ff-a300-4dc5-868d-bbc58e356e7e"
      },
      "execution_count": null,
      "outputs": [
        {
          "output_type": "display_data",
          "data": {
            "text/plain": [
              "<Figure size 432x288 with 1 Axes>"
            ],
            "image/png": "[encoded data removed]"
          },
          "metadata": {
            "needs_background": "light"
          }
        }
      ]
    },
    {
      "cell_type": "markdown",
      "source": [
        "on obtient l'histogramme de repartition des observations obtenue grace a nouvelle fonction"
      ],
      "metadata": {
        "id": "LV4arsq2lPc5"
      }
    },
    {
      "cell_type": "code",
      "source": [
        "X1 = truncated_normal(mean=2, sd=1, low=1, upp=10)\n",
        "X2 = truncated_normal(mean=5.5, sd=1, low=1, upp=10)\n",
        "X3 = truncated_normal(mean=8, sd=1, low=1, upp=10)\n",
        "import matplotlib.pyplot as plt\n",
        "fig, ax = plt.subplots(3, sharex=True)\n",
        "ax[0].hist(X1.rvs(10000), density=True)\n",
        "ax[1].hist(X2.rvs(10000), density=True)\n",
        "ax[2].hist(X3.rvs(10000), density=True)\n",
        "plt.show()"
      ],
      "metadata": {
        "colab": {
          "base_uri": "https://localhost:8080/",
          "height": 265
        },
        "id": "8DuFZLeZlhiu",
        "outputId": "0feae7a5-c0fd-4d6d-c622-2146fb4dd38a"
      },
      "execution_count": null,
      "outputs": [
        {
          "output_type": "display_data",
          "data": {
            "text/plain": [
              "<Figure size 432x288 with 3 Axes>"
            ],
            "image/png": "[encoded data removed]"
          },
          "metadata": {
            "needs_background": "light"
          }
        }
      ]
    },
    {
      "cell_type": "markdown",
      "source": [
        "Ici il s'agit de tester notre fonction plusieurs fois avec des parametres difeerents "
      ],
      "metadata": {
        "id": "7ZBSEMEjls1Y"
      }
    },
    {
      "cell_type": "code",
      "source": [
        "no_of_input_nodes = 3\n",
        "no_of_hidden_nodes = 4\n",
        "rad = 1 / np.sqrt(no_of_input_nodes)\n",
        "X = truncated_normal(mean=2, sd=1, low=-rad, upp=rad)\n",
        "wih = X.rvs((no_of_hidden_nodes, no_of_input_nodes))\n",
        "wih"
      ],
      "metadata": {
        "colab": {
          "base_uri": "https://localhost:8080/"
        },
        "id": "lG9eH1cFl76M",
        "outputId": "f9ac3b42-70ad-4e1b-e448-ae53ab3de6ec"
      },
      "execution_count": null,
      "outputs": [
        {
          "output_type": "execute_result",
          "data": {
            "text/plain": [
              "array([[-0.49530865, -0.07188958,  0.53029176],\n",
              "       [ 0.50047848,  0.15864064,  0.42637876],\n",
              "       [ 0.26860798, -0.24486715, -0.01211296],\n",
              "       [-0.11832508,  0.22343695,  0.37515446]])"
            ]
          },
          "metadata": {},
          "execution_count": 32
        }
      ]
    },
    {
      "cell_type": "markdown",
      "source": [
        "Sachant que les precedentes fonctions avaient pour but de choisir la meilleure methode pour choisir les poids caches, c'est notre fonction \"truncated _normal\" qui sera finalement utilisee. \n",
        "c'est donc elle qui est appliquee pour trouver sous forme de matrice le poids que chaque neurones d'entrees(3) sur tous les neurones de la couche cachee(4) "
      ],
      "metadata": {
        "id": "_zxLTvl9mzhX"
      }
    },
    {
      "cell_type": "code",
      "source": [
        "no_of_hidden_nodes = 4\n",
        "no_of_output_nodes = 2\n",
        "rad = 1 / np.sqrt(no_of_hidden_nodes)\n",
        "X = truncated_normal(mean=2, sd=1, low=-rad, upp=rad)\n",
        "who = X.rvs((no_of_output_nodes, no_of_hidden_nodes))\n",
        "who"
      ],
      "metadata": {
        "colab": {
          "base_uri": "https://localhost:8080/"
        },
        "id": "4jNq8brOoAzn",
        "outputId": "dee6e0c4-e3c8-40b7-b9ca-58735bd44593"
      },
      "execution_count": null,
      "outputs": [
        {
          "output_type": "execute_result",
          "data": {
            "text/plain": [
              "array([[ 0.35092473,  0.15462052, -0.41185323, -0.29060066],\n",
              "       [ 0.1277327 ,  0.35344241, -0.45910161,  0.3680645 ]])"
            ]
          },
          "metadata": {},
          "execution_count": 33
        }
      ]
    },
    {
      "cell_type": "markdown",
      "source": [
        "on obtient comme precedemment la matrice des poids sachant qu'on a 4 neurone dans la couche cachees et 2 neurones en sorties. "
      ],
      "metadata": {
        "id": "mCaEo1eOoXa4"
      }
    },
    {
      "cell_type": "code",
      "source": [
        "import numpy as np\n",
        "from scipy.stats import truncnorm\n",
        "def truncated_normal(mean=0, sd=1, low=0, upp=10):\n",
        "  return truncnorm((low - mean) / sd, (upp - mean) / sd, loc=mean, scale=sd)\n",
        "class NeuralNetwork:\n",
        "  def __init__(self,no_of_in_nodes,no_of_out_nodes,no_of_hidden_nodes,learning_rate):\n",
        "    self.no_of_in_nodes = no_of_in_nodes\n",
        "    self.no_of_out_nodes = no_of_out_nodes\n",
        "    self.no_of_hidden_nodes = no_of_hidden_nodes\n",
        "    self.learning_rate = learning_rate\n",
        "    self.create_weight_matrices()\n",
        "  def create_weight_matrices(self):\n",
        "    rad = 1 / np.sqrt(self.no_of_in_nodes)\n",
        "    X = truncated_normal(mean=0, sd=1, low=-rad, upp=rad)\n",
        "    self.weights_in_hidden = X.rvs((self.no_of_hidden_nodes,self.no_of_in_nodes))\n",
        "    rad = 1 / np.sqrt(self.no_of_hidden_nodes)\n",
        "    X = truncated_normal(mean=0, sd=1, low=-rad, upp=rad)\n",
        "    self.weights_hidden_out = X.rvs((self.no_of_out_nodes,self.no_of_hidden_nodes))\n",
        "  def train(self):\n",
        "    pass\n",
        "  def run(self):\n",
        "    pass"
      ],
      "metadata": {
        "id": "T0Kc_qrao2-c"
      },
      "execution_count": null,
      "outputs": []
    },
    {
      "cell_type": "code",
      "source": [
        "simple_network = NeuralNetwork(no_of_in_nodes = 3,no_of_out_nodes = 2,no_of_hidden_nodes = 4,learning_rate = 0.1)\n",
        "print(simple_network.weights_in_hidden)\n",
        "print(simple_network.weights_hidden_out)\n",
        "                               "
      ],
      "metadata": {
        "colab": {
          "base_uri": "https://localhost:8080/"
        },
        "id": "Bwbq6HHZu_5u",
        "outputId": "2dd125fb-301c-42fa-e45b-81d3c188805b"
      },
      "execution_count": null,
      "outputs": [
        {
          "output_type": "stream",
          "name": "stdout",
          "text": [
            "[[-0.55248043 -0.27696437  0.07325088]\n",
            " [ 0.39054182 -0.1072651   0.20389932]\n",
            " [-0.39998726  0.43447103  0.32252768]\n",
            " [-0.15729153  0.14079133  0.15216343]]\n",
            "[[ 0.28624524 -0.03847734 -0.20558466  0.43152445]\n",
            " [-0.01409358  0.0012022   0.02265663  0.35699835]]\n"
          ]
        }
      ]
    },
    {
      "cell_type": "markdown",
      "source": [
        "Il etait question d'ecrire la fonction qui permet de representer le fonctionnement d'un reseau de neurones.\n",
        "Elle est ensuite executer et on obtient les matrices des poids d'entree au niveau de la couche cachee et et a la sortie des neurones de la couche cachee "
      ],
      "metadata": {
        "id": "NfSYCVG9vXF0"
      }
    },
    {
      "cell_type": "code",
      "source": [
        "import numpy as np\n",
        "import matplotlib.pyplot as plt\n",
        "def sigma(x):\n",
        "  return 1 / (1 + np.exp(-x))\n",
        "X = np.linspace(-5, 5, 100)\n",
        "plt.plot(X, sigma(X),'b')\n",
        "plt.xlabel('X Axis')\n",
        "plt.ylabel('Y Axis')\n",
        "plt.title('Sigmoid Function')\n",
        "plt.grid()\n",
        "plt.text(2.3, 0.84, r'$\\sigma(x)=\\frac{1}{1+e^{-x}}$', fontsize=16)\n",
        "plt.show()"
      ],
      "metadata": {
        "colab": {
          "base_uri": "https://localhost:8080/",
          "height": 295
        },
        "id": "A90dsH59wXqq",
        "outputId": "35de173f-b400-4480-fe25-e7c6c4e21fc2"
      },
      "execution_count": null,
      "outputs": [
        {
          "output_type": "display_data",
          "data": {
            "text/plain": [
              "<Figure size 432x288 with 1 Axes>"
            ],
            "image/png": "[encoded data removed]"
          },
          "metadata": {
            "needs_background": "light"
          }
        }
      ]
    },
    {
      "cell_type": "markdown",
      "source": [
        "il s'agit la courbe de la fonction sigmoide"
      ],
      "metadata": {
        "id": "OJOat8Bdwvpq"
      }
    },
    {
      "cell_type": "code",
      "source": [
        "from scipy.special import expit\n",
        "print(expit(3.4))\n",
        "print(expit([3, 4, 1]))\n",
        "print(expit(np.array([0.8, 2.3, 8])))"
      ],
      "metadata": {
        "colab": {
          "base_uri": "https://localhost:8080/"
        },
        "id": "iW6TI-dsw6Lk",
        "outputId": "edc4b891-c3e5-4c3e-c746-c8b0916ee178"
      },
      "execution_count": null,
      "outputs": [
        {
          "output_type": "stream",
          "name": "stdout",
          "text": [
            "0.9677045353015494\n",
            "[0.95257413 0.98201379 0.73105858]\n",
            "[0.68997448 0.90887704 0.99966465]\n"
          ]
        }
      ]
    },
    {
      "cell_type": "markdown",
      "source": [
        "La fonction scipy.special est une implementation de la fonction sigmoide."
      ],
      "metadata": {
        "id": "NdcJC3lcxLG0"
      }
    },
    {
      "cell_type": "code",
      "source": [
        "import numpy as np\n",
        "import matplotlib.pyplot as plt\n",
        "def sigma(x):\n",
        "  return 1 / (1 + np.exp(-x))\n",
        "X = np.linspace(-5, 5, 100)\n",
        "plt.plot(X, sigma(X))\n",
        "plt.plot(X, sigma(X) * (1 - sigma(X)))\n",
        "plt.xlabel('X Axis')\n",
        "plt.ylabel('Y Axis')\n",
        "plt.title('Sigmoid Function')\n",
        "plt.grid()\n",
        "plt.text(2.3, 0.84, r'$\\sigma(x)=\\frac{1}{1+e^{-x}}$', fontsize=16)\n",
        "plt.text(0.3, 0.1, r'$\\sigma\\'(x) = \\sigma(x)(1 - \\sigma(x))$', fontsize=16)\n",
        "plt.show()"
      ],
      "metadata": {
        "colab": {
          "base_uri": "https://localhost:8080/",
          "height": 295
        },
        "id": "2SSxLMNOxYnx",
        "outputId": "ec450618-428e-4982-8407-c903cd935022"
      },
      "execution_count": null,
      "outputs": [
        {
          "output_type": "display_data",
          "data": {
            "text/plain": [
              "<Figure size 432x288 with 1 Axes>"
            ],
            "image/png": "[encoded data removed]"
          },
          "metadata": {
            "needs_background": "light"
          }
        }
      ]
    },
    {
      "cell_type": "markdown",
      "source": [
        "Representation de la fonction sigmoide et de sa derivee"
      ],
      "metadata": {
        "id": "4Jhkrr0ux4vA"
      }
    },
    {
      "cell_type": "code",
      "source": [
        "@np.vectorize\n",
        "def sigmoid(x):\n",
        "  return 1 / (1 + np.e ** -x)\n",
        "#sigmoid = np.vectorize(sigmoid)\n",
        "sigmoid([3, 4, 5])"
      ],
      "metadata": {
        "colab": {
          "base_uri": "https://localhost:8080/"
        },
        "id": "Aje0J1evyGTY",
        "outputId": "2710383b-7309-4e27-cd7f-bbcf58bbb8cc"
      },
      "execution_count": null,
      "outputs": [
        {
          "output_type": "execute_result",
          "data": {
            "text/plain": [
              "array([0.95257413, 0.98201379, 0.99330715])"
            ]
          },
          "metadata": {},
          "execution_count": 40
        }
      ]
    },
    {
      "cell_type": "markdown",
      "source": [
        "Ici nous avons defini notre propre fonction sigmoide a l'aide du vecteur decorateur de numpy"
      ],
      "metadata": {
        "id": "bv9FKuW3yJ2O"
      }
    },
    {
      "cell_type": "code",
      "source": [
        "def ReLU(x):\n",
        "  return np.maximum(0.0, x)\n",
        "def ReLU_derivation(x):\n",
        "  if x <= 0:\n",
        "    return 0\n",
        "  else:\n",
        "    return 1"
      ],
      "metadata": {
        "id": "7JRyhAa9yTcn"
      },
      "execution_count": null,
      "outputs": []
    },
    {
      "cell_type": "markdown",
      "source": [
        "Ici on definit une autre fonction d'activation:RELU(Rectified Linear Unit)"
      ],
      "metadata": {
        "id": "jk5h_rKiyvza"
      }
    },
    {
      "cell_type": "code",
      "source": [
        "import numpy as np\n",
        "import matplotlib.pyplot as plt\n",
        "X = np.linspace(-5, 6, 100)\n",
        "plt.plot(X, ReLU(X),'b')\n",
        "plt.xlabel('X Axis')\n",
        "plt.ylabel('Y Axis')\n",
        "plt.title('ReLU Function')\n",
        "plt.grid()\n",
        "plt.text(0.8, 0.4, r'$ReLU(x)=max(0, x)$', fontsize=14)\n",
        "plt.show()"
      ],
      "metadata": {
        "colab": {
          "base_uri": "https://localhost:8080/",
          "height": 295
        },
        "id": "Z-kcMGtfzGDH",
        "outputId": "47ad5030-59c9-4ea5-b8d3-fbb9ea611254"
      },
      "execution_count": null,
      "outputs": [
        {
          "output_type": "display_data",
          "data": {
            "text/plain": [
              "<Figure size 432x288 with 1 Axes>"
            ],
            "image/png": "[encoded data removed]"
          },
          "metadata": {
            "needs_background": "light"
          }
        }
      ]
    },
    {
      "cell_type": "markdown",
      "source": [
        "On trace la courbe de la fonction RelU"
      ],
      "metadata": {
        "id": "QcctCEpBzJr8"
      }
    },
    {
      "cell_type": "code",
      "source": [
        "import numpy as np\n",
        "from scipy.special import expit as activation_function\n",
        "from scipy.stats import truncnorm\n",
        "def truncated_normal(mean=0, sd=1, low=0, upp=10):\n",
        "  return truncnorm((low - mean) / sd, (upp - mean) / sd, loc=mean, scale=sd)\n",
        "class NeuralNetwork:\n",
        "  def __init__(self,no_of_in_nodes,no_of_out_nodes,no_of_hidden_nodes,learning_rate):\n",
        "    self.no_of_in_nodes = no_of_in_nodes\n",
        "    self.no_of_out_nodes = no_of_out_nodes\n",
        "    self.no_of_hidden_nodes = no_of_hidden_nodes\n",
        "    self.learning_rate = learning_rate\n",
        "    self.create_weight_matrices()\n",
        "  \"\"\" Initialiser les poids de la matrice du reseau de neurone\"\"\"  \n",
        "  def create_weight_matrices(self):\n",
        "    rad = 1 / np.sqrt(self.no_of_in_nodes)\n",
        "    X = truncated_normal(mean=0, sd=1, low=-rad, upp=rad)\n",
        "    self.weights_in_hidden = X.rvs((self.no_of_hidden_nodes,self.no_of_in_nodes))\n",
        "    rad = 1 / np.sqrt(self.no_of_hidden_nodes)\n",
        "    X = truncated_normal(mean=0, sd=1, low=-rad, upp=rad)\n",
        "    self.weights_hidden_out = X.rvs((self.no_of_out_nodes,self.no_of_hidden_nodes))\n",
        "  def train(self, input_vector, target_vector):\n",
        "    pass\n",
        "  \n",
        "  #Executer le reseau de neurones de neurones avec pour parametres d'entree notre vecteur d'entree  \n",
        "  def run(self, input_vector):\n",
        "  # Faire la transposee de notre vecteur d'entree\n",
        "    input_vector = np.array(input_vector, ndmin=2).T\n",
        "    input_hidden = activation_function(self.weights_in_hidden @ input_vector)\n",
        "    output_vector = activation_function(self.weights_hidden_out @ input_hidden)\n",
        "    return output_vector"
      ],
      "metadata": {
        "id": "eniGKRskzXVO"
      },
      "execution_count": null,
      "outputs": []
    },
    {
      "cell_type": "code",
      "source": [
        "simple_network = NeuralNetwork(no_of_in_nodes=2,\n",
        "no_of_out_nodes=2,\n",
        "no_of_hidden_nodes=4,\n",
        "learning_rate=0.6)"
      ],
      "metadata": {
        "id": "t2CAbf3L19kM"
      },
      "execution_count": null,
      "outputs": []
    },
    {
      "cell_type": "code",
      "source": [
        "simple_network.run([(3, 4)])"
      ],
      "metadata": {
        "colab": {
          "base_uri": "https://localhost:8080/"
        },
        "id": "-lVpTIDI1_VF",
        "outputId": "a3e37975-a8e9-4f67-d28c-04b577a20026"
      },
      "execution_count": null,
      "outputs": [
        {
          "output_type": "execute_result",
          "data": {
            "text/plain": [
              "array([[0.51986662],\n",
              "       [0.57161503]])"
            ]
          },
          "metadata": {},
          "execution_count": 46
        }
      ]
    },
    {
      "cell_type": "markdown",
      "source": [
        "Cette succession de code avait pour but d'ecrire et d'executer la fonction permettant de representer le reseau de neurones ceci en utilisant la fonction d'activation de scipy.special"
      ],
      "metadata": {
        "id": "-f8eZ_cq1xJs"
      }
    },
    {
      "cell_type": "markdown",
      "source": [
        "**ENTRAINEMENT** **D**'**UN** **RESEAU** **DE** **NEURONE** **AVEC** **PYTHON**"
      ],
      "metadata": {
        "id": "Yc3x435P_MzV"
      }
    },
    {
      "cell_type": "code",
      "source": [
        "import numpy as np\n",
        "from scipy.special import expit as activation_function\n",
        "from scipy.stats import truncnorm\n",
        "\n",
        "def truncated_normal(mean=0, sd=1, low=0, upp=10):\n",
        "  return truncnorm((low - mean) / sd, (upp - mean) / sd, loc=mean, scale=sd)\n",
        "\n",
        "class NeuralNetwork:\n",
        "\n",
        "  #On cree le reseau de neurone en definissant son nombres de neurones en entrée , son nombre de neurone en sortie , son nombre de neurone dans la couche cachée et son taux d'apprentissage\n",
        "  def __init__(self,no_of_in_nodes,no_of_out_nodes,no_of_hidden_nodes,learning_rate):\n",
        "    self.no_of_in_nodes = no_of_in_nodes\n",
        "    self.no_of_out_nodes = no_of_out_nodes\n",
        "    self.no_of_hidden_nodes = no_of_hidden_nodes\n",
        "    self.learning_rate = learning_rate\n",
        "    self.create_weight_matrices()\n",
        "\n",
        "  # Methode qui initialise les poids du reseau de neurone  \n",
        "  def create_weight_matrices(self):\n",
        "    rad = 1 / np.sqrt(self.no_of_in_nodes)\n",
        "    X = truncated_normal(mean=0, sd=1, low=-rad, upp=rad)\n",
        "    self.weights_in_hidden = X.rvs((self.no_of_hidden_nodes,self.no_of_in_nodes))\n",
        "    rad = 1 / np.sqrt(self.no_of_hidden_nodes)\n",
        "    X = truncated_normal(mean=0, sd=1, low=-rad, upp=rad)\n",
        "    self.weights_hidden_out = X.rvs((self.no_of_out_nodes,self.no_of_hidden_nodes))\n",
        "\n",
        "  # Methode qui fait l'entrainement du reseau de neurone en faisant le calcul des erreurs et l'ajustement des differents poids \n",
        "  def train(self, input_vector, target_vector):\n",
        "    # On se rassure que les vecteurs input_vector et target_vector ont la bonne forme\n",
        "    input_vector = np.array(input_vector)\n",
        "    input_vector = input_vector.reshape(input_vector.size, 1)\n",
        "    target_vector = np.array(target_vector).reshape(target_vector.size, 1)\n",
        "\n",
        "    output_vector_hidden = activation_function(self.weights_in_hidden @ input_vector)\n",
        "    output_vector_network = activation_function(self.weights_hidden_out @ output_vector_hidden)\n",
        "    output_error = target_vector - output_vector_network\n",
        "    tmp = output_error * output_vector_network * (1.0 - output_vector_network)\n",
        "    self.weights_hidden_out += self.learning_rate * (tmp @ output_vector_hidden.T)\n",
        "\n",
        "    # On calcule l'erreur\n",
        "    hidden_errors = self.weights_hidden_out.T @ output_error\n",
        "\n",
        "    # On met à jour les poids initialisés plus haut\n",
        "    tmp = hidden_errors * output_vector_hidden * (1.0 - output_vector_hidden)\n",
        "    self.weights_in_hidden += self.learning_rate * (tmp @ input_vector.T)\n",
        "\n",
        "  #Methode qui genere la valeur en sortie du reseau de neurone  ayant  un vecteur de valeur en entrée \n",
        "  def run(self, input_vector):\n",
        "  \n",
        "    # On se rassure que le vecteur en entrée soit un vecteur colonne:\n",
        "    input_vector = np.array(input_vector)\n",
        "    input_vector = input_vector.reshape(input_vector.size, 1)\n",
        "\n",
        "    input4hidden = activation_function(self.weights_in_hidden@ input_vector)\n",
        "    output_vector_network = activation_function(self.weights_hidden_out @ input4hidden)\n",
        "    return output_vector_network\n",
        "\n",
        "  # Methode d'evaluation du reseau de neurone en retournant le nombre d'observation qu'il a correctement classé et le nombre d'observation qu'il n'a pas correctement classé\n",
        "  def evaluate(self, data, labels):\n",
        "    \n",
        "    corrects, wrongs = 0, 0\n",
        "    for i in range(len(data)):\n",
        "      res = self.run(data[i])\n",
        "      res_max = res.argmax()\n",
        "      if res_max == labels[i].argmax():\n",
        "        corrects += 1\n",
        "      else:\n",
        "        wrongs += 1\n",
        "    return corrects, wrongs\n",
        "\n"
      ],
      "metadata": {
        "id": "At9cxp05_jlR"
      },
      "execution_count": null,
      "outputs": []
    },
    {
      "cell_type": "markdown",
      "source": [
        "Ce code python contient la definition d'un reseau de neurone et les differentes methodes(run,evaluate,create_weight_matrices,train) permettant d'y effectuer toutes les operations necessaires pour mener à bien sa construction.\n",
        "Ce code nous sera utile dans des codes plus bas pour la formation de notre reseau de neurone"
      ],
      "metadata": {
        "id": "rywUg_dAtcJs"
      }
    },
    {
      "cell_type": "code",
      "source": [
        "# On génère un jeu de donnée de 500 observations divisé en 3 groupes , chaque groupe correspondant à une classe \n",
        "from sklearn.datasets import make_blobs\n",
        "n_samples = 500\n",
        "blob_centers = ([2, 6], [6, 2], [7, 7])\n",
        "n_classes = len(blob_centers)\n",
        "data, labels = make_blobs(n_samples=n_samples,centers=blob_centers,random_state=7)\n"
      ],
      "metadata": {
        "id": "TP8TWqCmHy2V"
      },
      "execution_count": null,
      "outputs": []
    },
    {
      "cell_type": "markdown",
      "source": [
        "Ce bout de code ci dessus nous permet d'avoir un jeu de donnée d'entrainement et de test qui seront soumis à notre reseau de neurone pour test ."
      ],
      "metadata": {
        "id": "RXystGmPEVJO"
      }
    },
    {
      "cell_type": "code",
      "source": [
        "# Visualisation du jeu de donnée généré\n",
        "\n",
        "import matplotlib.pyplot as plt\n",
        "colours = ('green', 'red', \"yellow\")\n",
        "fig, ax = plt.subplots()\n",
        "for n_class in range(n_classes):\n",
        "  ax.scatter(data[labels==n_class][:, 0],\n",
        "             data[labels==n_class][:, 1],\n",
        "             c=colours[n_class],\n",
        "             s=40,\n",
        "             label=str(n_class))"
      ],
      "metadata": {
        "colab": {
          "base_uri": "https://localhost:8080/",
          "height": 267
        },
        "id": "vrJPp2CaLaDY",
        "outputId": "52f1af08-d0b8-446f-a6d2-f807a25c988c"
      },
      "execution_count": null,
      "outputs": [
        {
          "output_type": "display_data",
          "data": {
            "text/plain": [
              "<Figure size 432x288 with 1 Axes>"
            ],
            "image/png": "[encoded data removed]"
          },
          "metadata": {
            "needs_background": "light"
          }
        }
      ]
    },
    {
      "cell_type": "code",
      "source": [
        "labels[:7]"
      ],
      "metadata": {
        "colab": {
          "base_uri": "https://localhost:8080/"
        },
        "id": "7KC2kdx2M3GX",
        "outputId": "12057878-30b3-47da-a952-5f12ebbe73cb"
      },
      "execution_count": null,
      "outputs": [
        {
          "output_type": "execute_result",
          "data": {
            "text/plain": [
              "array([2, 2, 1, 0, 2, 0, 1])"
            ]
          },
          "metadata": {},
          "execution_count": 7
        }
      ]
    },
    {
      "cell_type": "markdown",
      "source": [
        "Cette ligne de code nous permet de voir les classes des 7 premières \n",
        "observations. On remarque donc que les classes sont representées dans un vecteur à une dimension.\n",
        "Ce qui n'est pas une bonne representation"
      ],
      "metadata": {
        "id": "pLbDOEnkF_R-"
      }
    },
    {
      "cell_type": "code",
      "source": [
        "import numpy as np\n",
        "\n",
        "# On applique la methode du one-hot representation \n",
        "labels = np.arange(n_classes) == labels.reshape(labels.size, 1)\n",
        "labels = labels.astype(np.float)\n",
        "\n",
        "labels[:7] # On reaffiche les classes des 7 premieres observations du jeu de donnee qui cette fois seront chacune represntés par un vecteur à 3 dimensions"
      ],
      "metadata": {
        "colab": {
          "base_uri": "https://localhost:8080/"
        },
        "id": "jEkycKEqNVoS",
        "outputId": "a78e4384-5240-41a5-c366-c41be7fe0525"
      },
      "execution_count": null,
      "outputs": [
        {
          "output_type": "stream",
          "name": "stderr",
          "text": [
            "/usr/local/lib/python3.7/dist-packages/ipykernel_launcher.py:4: DeprecationWarning: `np.float` is a deprecated alias for the builtin `float`. To silence this warning, use `float` by itself. Doing this will not modify any behavior and is safe. If you specifically wanted the numpy scalar type, use `np.float64` here.\n",
            "Deprecated in NumPy 1.20; for more details and guidance: https://numpy.org/devdocs/release/1.20.0-notes.html#deprecations\n",
            "  after removing the cwd from sys.path.\n"
          ]
        },
        {
          "output_type": "execute_result",
          "data": {
            "text/plain": [
              "array([[0., 0., 1.],\n",
              "       [0., 0., 1.],\n",
              "       [0., 1., 0.],\n",
              "       [1., 0., 0.],\n",
              "       [0., 0., 1.],\n",
              "       [1., 0., 0.],\n",
              "       [0., 1., 0.]])"
            ]
          },
          "metadata": {},
          "execution_count": 8
        }
      ]
    },
    {
      "cell_type": "markdown",
      "source": [
        "Le code ci-dessus vient ainsi pallier au problème de representation des classes du code qui précède en utilisant la methode du one-hot representation pour chaque classe. De ce fait chaque classe est donc representé par un vecteur de 3 dimensions (avec un element à 1 et le reste à 0) vue qu'on a 3 classes"
      ],
      "metadata": {
        "id": "-O6LWdPtHacx"
      }
    },
    {
      "cell_type": "code",
      "source": [
        "from sklearn.model_selection import train_test_split\n",
        "\n",
        "res = train_test_split(data, labels,train_size=0.8,test_size=0.2,random_state=42) # Division du jeu de donnée en 2 : 80% pour l'entrainement et 20% pour le test\n",
        "train_data, test_data, train_labels, test_labels = res\n",
        "train_labels[:10] # On affiche les classes des 10 premières observations du jeu d'entrainement"
      ],
      "metadata": {
        "colab": {
          "base_uri": "https://localhost:8080/"
        },
        "id": "pUhszT0oOeNA",
        "outputId": "7b1fe7c7-84d3-457e-9533-aec978f07286"
      },
      "execution_count": null,
      "outputs": [
        {
          "output_type": "execute_result",
          "data": {
            "text/plain": [
              "array([[0., 0., 1.],\n",
              "       [0., 1., 0.],\n",
              "       [1., 0., 0.],\n",
              "       [0., 0., 1.],\n",
              "       [0., 0., 1.],\n",
              "       [1., 0., 0.],\n",
              "       [0., 1., 0.],\n",
              "       [1., 0., 0.],\n",
              "       [1., 0., 0.],\n",
              "       [0., 0., 1.]])"
            ]
          },
          "metadata": {},
          "execution_count": 9
        }
      ]
    },
    {
      "cell_type": "markdown",
      "source": [
        "Avec le code ci-dessus nous divisions notre jeu de donnée en 2: le jeu d'entrainement qui represente 80% du jeu de donnée initial et le jeu de test qui lui represente 20%"
      ],
      "metadata": {
        "id": "O5H-w7ZdK7em"
      }
    },
    {
      "cell_type": "code",
      "source": [
        "# On cree un reseau de neurone avec 2 neurones en entrée , 3 en sortie ,5 dans la couche cachée et ayant un taux d'apprentissage de 0.3 ceci en se servant de la classe neuralNetwork\n",
        "\n",
        "simple_network = NeuralNetwork(no_of_in_nodes=2,\n",
        "                               no_of_out_nodes=3,\n",
        "                               no_of_hidden_nodes=5,\n",
        "                               learning_rate=0.3)\n",
        "\n",
        "#On soumet donc ce reseau de neurone à l'apprentissage avec le jeu de donnée généré plus haut\n",
        "for i in range(len(train_data)):\n",
        "  simple_network.train(train_data[i], train_labels[i])\n",
        "\n",
        "#On passe à l'evaluation du reseau de neurone\n",
        "simple_network.evaluate(train_data, train_labels)"
      ],
      "metadata": {
        "colab": {
          "base_uri": "https://localhost:8080/"
        },
        "id": "aRJmLLDEPx2p",
        "outputId": "5d4b006e-30a0-46c2-94e8-12b0f5c0c308"
      },
      "execution_count": null,
      "outputs": [
        {
          "output_type": "execute_result",
          "data": {
            "text/plain": [
              "(391, 9)"
            ]
          },
          "metadata": {},
          "execution_count": 10
        }
      ]
    },
    {
      "cell_type": "code",
      "source": [
        "import numpy as np\n",
        "from scipy.special import expit as activation_function\n",
        "from scipy.stats import truncnorm\n",
        "\n",
        "def truncated_normal(mean=0, sd=1, low=0, upp=10):\n",
        "  return truncnorm((low - mean) / sd, (upp - mean) / sd, loc=mean, scale=sd)\n",
        "\n",
        "class NeuralNetwork:\n",
        "\n",
        "  #On cree le reseau de neurone en definissant son nombres de neurones en entrée , son nombre de neurone en sortie , son nombre de neurone dans la couche cachée , son taux d'apprentissage et cette fois en tenant compte d'eventuels noeuds biais\n",
        "  def __init__(self,no_of_in_nodes,no_of_out_nodes,no_of_hidden_nodes,learning_rate,bias=None):\n",
        "    self.no_of_in_nodes = no_of_in_nodes\n",
        "    self.no_of_out_nodes = no_of_out_nodes\n",
        "    self.no_of_hidden_nodes = no_of_hidden_nodes\n",
        "    self.learning_rate = learning_rate\n",
        "    self.bias = bias\n",
        "    self.create_weight_matrices()\n",
        "\n",
        "  # Methode qui initialise les poids du reseau de neurone en tenant compte d'un eventuel noeud biais\n",
        "  def create_weight_matrices(self):\n",
        "    bias_node = 1 if self.bias else 0\n",
        "    rad = 1 / np.sqrt(self.no_of_in_nodes + bias_node)\n",
        "    X = truncated_normal(mean=0, sd=1, low=-rad, upp=rad)\n",
        "    self.weights_in_hidden = X.rvs((self.no_of_hidden_nodes,self.no_of_in_nodes + bias_node))\n",
        "    rad = 1 / np.sqrt(self.no_of_hidden_nodes + bias_node)\n",
        "    X = truncated_normal(mean=0, sd=1, low=-rad, upp=rad)\n",
        "    self.weights_hidden_out = X.rvs((self.no_of_out_nodes,self.no_of_hidden_nodes + bias_node))\n",
        "\n",
        "  def train(self, input_vector, target_vector):\n",
        "    # On s'assure que les vecteurs ont la forme correcte\n",
        "    input_vector = np.array(input_vector)\n",
        "    input_vector = input_vector.reshape(input_vector.size, 1)\n",
        "    if self.bias:\n",
        "      # s'il y'a un noeud biais on l'ajoute à la fin du vecteur d'entré\n",
        "      input_vector = np.concatenate( (input_vector, [[self.bias]]) )\n",
        "    target_vector = np.array(target_vector).reshape(target_vector.size, 1)\n",
        "    output_vector_hidden = activation_function(self.weights_in_hidden @ input_vector)\n",
        "    if self.bias:\n",
        "      # s'il y'a un noeud biais on l'ajoute à la fin du vecteur de la couche cachée\n",
        "      output_vector_hidden = np.concatenate( (output_vector_hidden, [[self.bias]]) )\n",
        "    output_vector_network = activation_function(self.weights_hidden_out @ output_vector_hidden)\n",
        "    output_error = target_vector - output_vector_network\n",
        "    # Mise à jour des poids:\n",
        "    tmp = output_error * output_vector_network * (1.0 - output_vector_network)\n",
        "    self.weights_hidden_out += self.learning_rate * (tmp @ output_vector_hidden.T)\n",
        "    # Calcul de l'erreur\n",
        "    hidden_errors = self.weights_hidden_out.T @ output_error\n",
        "    # Mise à jour des poids\n",
        "    tmp = hidden_errors * output_vector_hidden * (1.0 - output_vector_hidden)\n",
        "    if self.bias:\n",
        "      x = (tmp @input_vector.T)[:-1,:]  \n",
        "    else:\n",
        "      x = tmp @ input_vector.T\n",
        "    self.weights_in_hidden += self.learning_rate * x\n",
        "\n",
        "  #Methode qui genere la valeur en sortie du reseau de neurone  ayant  un vecteur de valeur en entrée prenant n compte la presence d'eventuel noeud biais\n",
        "  def run(self, input_vector):\n",
        "    # On s'assure que le vecteur d'entrée soit un vecteur colonne\n",
        "    input_vector = np.array(input_vector)\n",
        "    input_vector = input_vector.reshape(input_vector.size, 1)\n",
        "    if self.bias:\n",
        "      # s'il y'a un noeud biais on l'ajoute à la fin du vecteur d'entré\n",
        "      input_vector = np.concatenate( (input_vector, [[1]]) )\n",
        "    input4hidden = activation_function(self.weights_in_hidden @ input_vector)\n",
        "    if self.bias:\n",
        "      input4hidden = np.concatenate( (input4hidden, [[1]]) )\n",
        "    output_vector_network = activation_function(self.weights_hidden_out @ input4hidden)\n",
        "    return output_vector_network               \n",
        "\n",
        "  # Methode d'evaluation du reseau de neurone en retournant le nombre d'observation qu'il a correctement classé et le nombre d'observation qu'il n'a pas correctement classé\n",
        "  def evaluate(self, data, labels):\n",
        "    corrects, wrongs = 0, 0\n",
        "    for i in range(len(data)):\n",
        "      res = self.run(data[i])\n",
        "      res_max = res.argmax()\n",
        "      if res_max == labels[i].argmax():\n",
        "        corrects += 1\n",
        "      else:\n",
        "        wrongs += 1\n",
        "    return corrects, wrongs\n",
        "\n"
      ],
      "metadata": {
        "id": "m4LBaaU-XyZA"
      },
      "execution_count": null,
      "outputs": []
    },
    {
      "cell_type": "markdown",
      "source": [
        "Ce code python contient la definition d'un reseau de neurone et les differentes methodes(run,evaluate,create_weight_matrices,train) permettant d'y effectuer toutes les operations necessaires pour mener à bien sa construction avec la particularité de prendre en consideration  le cas de presence de noeud biais.\n",
        "Ce code nous sera utile pour la formation du reseau de neurone  dans le code qui suit"
      ],
      "metadata": {
        "id": "-Rai4HgpsHfc"
      }
    },
    {
      "cell_type": "code",
      "source": [
        "# On cree un reseau de neurone avec 2 neurones en entrée , 3 en sortie ,5 dans la couche cachée et ayant un taux d'apprentissage de 0.1 avec la presence d'un noeud biais ceci à l'aide du fichier neural_networks2.py \n",
        "simple_network = NeuralNetwork(no_of_in_nodes=2,\n",
        "                no_of_out_nodes=3,\n",
        "                no_of_hidden_nodes=5,\n",
        "                learning_rate=0.1,\n",
        "                bias=1)\n",
        "\n",
        "#On soumet donc ce reseau de neurone à l'apprentissage avec le jeu de donnée généré plus haut\n",
        "for i in range(len(train_data)):\n",
        "  simple_network.train(train_data[i], train_labels[i])\n",
        "\n",
        "#On passe à l'evaluation du reseau de neurone  \n",
        "simple_network.evaluate(train_data, train_labels)"
      ],
      "metadata": {
        "colab": {
          "base_uri": "https://localhost:8080/"
        },
        "id": "kKw2n0LjhGxM",
        "outputId": "bf2e0156-aaf6-4f94-e340-5d7a4ba32188"
      },
      "execution_count": null,
      "outputs": [
        {
          "output_type": "execute_result",
          "data": {
            "text/plain": [
              "(361, 39)"
            ]
          },
          "metadata": {},
          "execution_count": 11
        }
      ]
    },
    {
      "cell_type": "markdown",
      "source": [
        "**FONCTION** **D**'**ACTIVATION** **SOFTMAX**"
      ],
      "metadata": {
        "id": "K0cEWkdjkJkg"
      }
    },
    {
      "cell_type": "code",
      "source": [
        "#  Definition de la fonction softmax\n",
        "import numpy as np\n",
        "def softmax(x):\n",
        "    e_x = np.exp(x)\n",
        "    return e_x / e_x.sum()\n",
        "\n",
        "#Application de la foncion softmax à x\n",
        "x = np.array([1, 0, 3, 5])\n",
        "y = softmax(x)\n",
        "y, x / x.sum()"
      ],
      "metadata": {
        "colab": {
          "base_uri": "https://localhost:8080/"
        },
        "id": "kjr0pekRkXT4",
        "outputId": "e5a9e0c0-c9c7-4a53-8af1-8ce0f6d6894b"
      },
      "execution_count": null,
      "outputs": [
        {
          "output_type": "execute_result",
          "data": {
            "text/plain": [
              "(array([0.01578405, 0.00580663, 0.11662925, 0.86178007]),\n",
              " array([0.11111111, 0.        , 0.33333333, 0.55555556]))"
            ]
          },
          "metadata": {},
          "execution_count": 1
        }
      ]
    },
    {
      "cell_type": "code",
      "source": [
        "import numpy as np\n",
        "def softmax(x):\n",
        "    e_x = np.exp(x - np.max(x))\n",
        "    return e_x / e_x.sum()\n",
        "softmax(x)"
      ],
      "metadata": {
        "colab": {
          "base_uri": "https://localhost:8080/"
        },
        "id": "XIBHt-gFkqGG",
        "outputId": "e45abe37-58d2-4769-bea1-e6421b8b40ed"
      },
      "execution_count": null,
      "outputs": [
        {
          "output_type": "execute_result",
          "data": {
            "text/plain": [
              "array([0.01578405, 0.00580663, 0.11662925, 0.86178007])"
            ]
          },
          "metadata": {},
          "execution_count": 13
        }
      ]
    },
    {
      "cell_type": "code",
      "source": [
        "#  Calcul de la derivé de la fonction softmax\n",
        "\n",
        "import numpy as np\n",
        "def softmax(x):\n",
        "    e_x = np.exp(x)\n",
        "    return e_x / e_x.sum()\n",
        "\n",
        "s = softmax(np.array([0, 4, 5]))\n",
        "\n",
        "si_sj = - s * s.reshape(3, 1)\n",
        "print(s)\n",
        "print(si_sj)\n",
        "s_der = np.diag(s) + si_sj\n",
        "s_der"
      ],
      "metadata": {
        "colab": {
          "base_uri": "https://localhost:8080/"
        },
        "id": "f023Hel6kubx",
        "outputId": "df579516-81cf-4df3-9e0d-8e0e6540cf06"
      },
      "execution_count": null,
      "outputs": [
        {
          "output_type": "stream",
          "name": "stdout",
          "text": [
            "[0.00490169 0.26762315 0.72747516]\n",
            "[[-2.40265555e-05 -1.31180548e-03 -3.56585701e-03]\n",
            " [-1.31180548e-03 -7.16221526e-02 -1.94689196e-01]\n",
            " [-3.56585701e-03 -1.94689196e-01 -5.29220104e-01]]\n"
          ]
        },
        {
          "output_type": "execute_result",
          "data": {
            "text/plain": [
              "array([[ 0.00487766, -0.00131181, -0.00356586],\n",
              "       [-0.00131181,  0.196001  , -0.1946892 ],\n",
              "       [-0.00356586, -0.1946892 ,  0.19825505]])"
            ]
          },
          "metadata": {},
          "execution_count": 14
        }
      ]
    },
    {
      "cell_type": "code",
      "source": [
        "import numpy as np\n",
        "from scipy.stats import truncnorm\n",
        "\n",
        "def truncated_normal(mean=0, sd=1, low=0, upp=10):\n",
        "    return truncnorm((low - mean) / sd, (upp - mean) / sd, loc=mean, scale=sd)\n",
        "\n",
        "#fonction d'activation sigmoid\n",
        "@np.vectorize\n",
        "def sigmoid(x):\n",
        "    return 1 / (1 + np.e ** -x)\n",
        "\n",
        "#fonction d'activation softmax\n",
        "def softmax(x):\n",
        "    e_x = np.exp(x)\n",
        "    return e_x / e_x.sum()\n",
        "\n",
        "\n",
        "class NeuralNetwork:\n",
        "    #On cree le reseau de neurone en definissant son nombres de neurones en entrée , son nombre de neurone en sortie , son nombre de neurone dans la couche cachée , son taux d'apprentissage et qui utilise commee fonction d'activation la fonction softmax ou pas\n",
        "    def __init__(self,no_of_in_nodes,no_of_out_nodes,no_of_hidden_nodes,learning_rate,softmax=True):\n",
        "        self.no_of_in_nodes = no_of_in_nodes\n",
        "        self.no_of_out_nodes = no_of_out_nodes\n",
        "        self.no_of_hidden_nodes = no_of_hidden_nodes\n",
        "        self.learning_rate = learning_rate\n",
        "        self.softmax = softmax\n",
        "        self.create_weight_matrices()\n",
        "    \n",
        "    # Methode qui initialise les poids du reseau de neurone \n",
        "    def create_weight_matrices(self):\n",
        "        rad = 1 / np.sqrt(self.no_of_in_nodes)\n",
        "        X = truncated_normal(mean=0, sd=1, low=-rad, upp=rad)\n",
        "        self.weights_in_hidden = X.rvs((self.no_of_hidden_nodes,self.no_of_in_nodes))\n",
        "        rad = 1 / np.sqrt(self.no_of_hidden_nodes)\n",
        "        X = truncated_normal(mean=0, sd=1, low=-rad, upp=rad)\n",
        "        self.weights_hidden_out = X.rvs((self.no_of_out_nodes,self.no_of_hidden_nodes))\n",
        "        \n",
        "    # Methode qui fait l'entrainement du reseau de neurone en faisant le calcul des erreurs et l'ajustement des differents poids ceci en utilisant une fonction d'activation qui sera soit sigmoid soit softmax \n",
        "    def train(self, input_vector, target_vector):\n",
        "        input_vector = np.array(input_vector)\n",
        "        input_vector = input_vector.reshape(input_vector.size, 1)\n",
        "        target_vector = np.array(target_vector).reshape(target_vector.size, 1)\n",
        "        output_vector_hidden = sigmoid(self.weights_in_hidden @ input_vector)\n",
        "        if self.softmax: # utilisation de la fonction d'activation softmax\n",
        "            output_vector_network = softmax(self.weights_hidden_out @ output_vector_hidden)\n",
        "        else:            # utilisation de la fonction d'activation sigmoid\n",
        "            output_vector_network = sigmoid(self.weights_hidden_out @ output_vector_hidden)\n",
        "        output_error = target_vector - output_vector_network\n",
        "        if self.softmax:\n",
        "            ovn = output_vector_network.reshape(output_vector_network.size,)\n",
        "            si_sj = - ovn * ovn.reshape(self.no_of_out_nodes, 1)\n",
        "            s_der = np.diag(ovn) + si_sj\n",
        "            tmp = s_der @ output_error\n",
        "            self.weights_hidden_out += self.learning_rate * (tmp @ output_vector_hidden.T)\n",
        "        else:\n",
        "            tmp = output_error * output_vector_network * (1.0 - output_vector_network)\n",
        "            self.weights_hidden_out += self.learning_rate * (tmp @ output_vector_hidden.T)\n",
        "        # calcul de l'erreur\n",
        "        hidden_errors = self.weights_hidden_out.T @ output_error\n",
        "        # mise à jour des poids\n",
        "        tmp = hidden_errors * output_vector_hidden * (1.0 - output_vector_hidden)\n",
        "        self.weights_in_hidden += self.learning_rate * (tmp @ input_vector.T)\n",
        "    \n",
        "    #Methode qui genere la valeur en sortie du reseau de neurone  ayant  un vecteur de valeur en entrée en utilisant biensur une fonction d'activation(softmax ou sigmoid)\n",
        "    def run(self, input_vector):\n",
        "        input_vector = np.array(input_vector)\n",
        "        input_vector = input_vector.reshape(input_vector.size, 1)\n",
        "        input4hidden = sigmoid(self.weights_in_hidden @ input_vector)\n",
        "        if self.softmax: # utilisation de la fonction d'activation softmax\n",
        "            output_vector_network = softmax(self.weights_hidden_out @ input4hidden)\n",
        "        else: # utilisation de la fonction d'activation sigmoid\n",
        "            output_vector_network = sigmoid(self.weights_hidden_out @ input4hidden)\n",
        "        return output_vector_network\n",
        "    \n",
        "    # Methode d'evaluation du reseau de neurone en retournant le nombre d'observation qu'il a correctement classé et le nombre d'observation qu'il n'a pas correctement classé\n",
        "    def evaluate(self, data, labels):\n",
        "        corrects, wrongs = 0, 0\n",
        "        for i in range(len(data)):\n",
        "            res = self.run(data[i])\n",
        "            res_max = res.argmax()\n",
        "            if res_max == labels[i]:\n",
        "                corrects += 1\n",
        "            else:\n",
        "                wrongs += 1\n",
        "        return corrects, wrongs"
      ],
      "metadata": {
        "id": "cdsUKS1lk2Ay"
      },
      "execution_count": null,
      "outputs": []
    },
    {
      "cell_type": "markdown",
      "source": [
        "Ce code python contient la definition d'un reseau de neurone avec ses differents paramètres; et les differentes methodes(run,evaluate,create_weight_matrices,train) permettant d'y effectuer toutes les operations necessaires pour mener à bien sa construction avec l'utilisation d'une fonction d'activation qui peut etre la fonction softmax ou sigmoid.\n",
        "Ce code nous sera utile pour la formation du reseau de neurone  dans le code qui suit"
      ],
      "metadata": {
        "id": "jEqy47-UoAyb"
      }
    },
    {
      "cell_type": "code",
      "source": [
        "\n",
        "# On génère un jeu de donnée de 300 observations divisé en 2 groupes , chaque groupe correspondant à une classe \n",
        "\n",
        "from sklearn.datasets import make_blobs\n",
        "n_samples = 300\n",
        "samples, labels = make_blobs(n_samples=n_samples,centers=([2, 6], [6, 2]),random_state=0)"
      ],
      "metadata": {
        "id": "ssHkpWzFlCL_"
      },
      "execution_count": null,
      "outputs": []
    },
    {
      "cell_type": "code",
      "source": [
        "# Visualisation du jeu de donnée\n",
        "\n",
        "import matplotlib.pyplot as plt\n",
        "colours = ('green', 'red', 'blue', 'magenta', 'yellow', 'cyan')\n",
        "fig, ax = plt.subplots()\n",
        "for n_class in range(2):\n",
        "    ax.scatter(samples[labels==n_class][:, 0], samples[labels==n_class][:, 1],c=colours[n_class], s=40, label=str(n_class))\n"
      ],
      "metadata": {
        "colab": {
          "base_uri": "https://localhost:8080/",
          "height": 265
        },
        "id": "-yWya13elLjJ",
        "outputId": "e12fac55-37b9-4034-87b6-775f662f8a41"
      },
      "execution_count": null,
      "outputs": [
        {
          "output_type": "display_data",
          "data": {
            "text/plain": [
              "<Figure size 432x288 with 1 Axes>"
            ],
            "image/png": "[encoded data removed]"
          },
          "metadata": {
            "needs_background": "light"
          }
        }
      ]
    },
    {
      "cell_type": "code",
      "source": [
        "\n",
        "# Division du jeu de donnée en 2 : 80% pour l'entrainement et 20% pour le test    \n",
        "size_of_learn_sample = int(n_samples * 0.8)\n",
        "learn_data = samples[:size_of_learn_sample] # jeu d'entrainement \n",
        "test_data = samples[-size_of_learn_sample:] # jeu de test"
      ],
      "metadata": {
        "id": "2D4MCRAgnjga"
      },
      "execution_count": null,
      "outputs": []
    },
    {
      "cell_type": "code",
      "source": [
        "\n",
        "\n",
        "# On cree un reseau de neurone avec 2 neurones en entrée , 3 en sortie ,5 dans la couche cachée et ayant un taux d'apprentissage de 0.3 et qui utilise la fonction d'activation softmax\n",
        "\n",
        "simple_network = NeuralNetwork(no_of_in_nodes=2,\n",
        "                                no_of_out_nodes=2,\n",
        "                                no_of_hidden_nodes=5,\n",
        "                                learning_rate=0.3,\n",
        "                                softmax=True)"
      ],
      "metadata": {
        "id": "Yr4yAMo0lXqm"
      },
      "execution_count": null,
      "outputs": []
    },
    {
      "cell_type": "code",
      "source": [
        "#  On genere les valeurs en sortie du reseau de neurone ayant des vecteurs en entrée à l'aide de la méthode run\n",
        "for x in [(1, 4), (2, 6), (3, 3), (6, 2)]:\n",
        "    y = simple_network.run(x)\n",
        "    print(x, y, s.sum())"
      ],
      "metadata": {
        "colab": {
          "base_uri": "https://localhost:8080/"
        },
        "id": "wwnsTYZklfgF",
        "outputId": "e409a4c4-462e-4464-b73e-e2620b6ec613"
      },
      "execution_count": null,
      "outputs": [
        {
          "output_type": "stream",
          "name": "stdout",
          "text": [
            "(1, 4) [[0.5449721]\n",
            " [0.4550279]] 1.0\n",
            "(2, 6) [[0.53988599]\n",
            " [0.46011401]] 1.0\n",
            "(3, 3) [[0.57446416]\n",
            " [0.42553584]] 1.0\n",
            "(6, 2) [[0.62076983]\n",
            " [0.37923017]] 1.0\n"
          ]
        }
      ]
    },
    {
      "cell_type": "code",
      "source": [
        "#On change la representation des classes à l'aide de la methode du one-hot-encoding afin qu'elles soient representées par un vecteur à 2 dimensions(le jeu de donnée ayant 2 classes) \n",
        "labels_one_hot = (np.arange(2) == labels.reshape(labels.size, 1))\n",
        "labels_one_hot = labels_one_hot.astype(np.float)\n",
        "\n",
        "# Phase d'entrainement du resequ de neurone\n",
        "for i in range(size_of_learn_sample):\n",
        "    #print(learn_data[i], labels[i], labels_one_hot[i])\n",
        "    simple_network.train(learn_data[i],labels_one_hot[i])\n",
        "    \n",
        "# On evalue le reseau de neurone en ressortant le nombre d'observation bien classé et mal classé    \n",
        "from collections import Counter\n",
        "evaluation = Counter()\n",
        "simple_network.evaluate(learn_data, labels)"
      ],
      "metadata": {
        "colab": {
          "base_uri": "https://localhost:8080/"
        },
        "id": "SHyC-JMNlxRd",
        "outputId": "8ac617e7-9ede-4df4-d716-3a797ddda1f5"
      },
      "execution_count": null,
      "outputs": [
        {
          "output_type": "stream",
          "name": "stderr",
          "text": [
            "/usr/local/lib/python3.7/dist-packages/ipykernel_launcher.py:3: DeprecationWarning: `np.float` is a deprecated alias for the builtin `float`. To silence this warning, use `float` by itself. Doing this will not modify any behavior and is safe. If you specifically wanted the numpy scalar type, use `np.float64` here.\n",
            "Deprecated in NumPy 1.20; for more details and guidance: https://numpy.org/devdocs/release/1.20.0-notes.html#deprecations\n",
            "  This is separate from the ipykernel package so we can avoid doing imports until\n"
          ]
        },
        {
          "output_type": "execute_result",
          "data": {
            "text/plain": [
              "(236, 4)"
            ]
          },
          "metadata": {},
          "execution_count": 20
        }
      ]
    },
    {
      "cell_type": "markdown",
      "source": [
        "**MATRICE** **DE** **CONFUSION**"
      ],
      "metadata": {
        "id": "cLIxkwKumEH4"
      }
    },
    {
      "cell_type": "code",
      "source": [
        "# matrice de confusion\n",
        "\n",
        "import numpy as np\n",
        "cm = np.array(\n",
        "[[5825,    1,   49,   23,    7,   46,   30,   12,   21,  26],\n",
        "[    1, 6654,   48,   25,   10,   32,   19,   62,  111,  10],\n",
        "[    2,   20, 5561,   69,   13,   10,    2,   45,   18,   2],\n",
        "[    6,   26,   99, 5786,    5,  111,    1,   41,  110,  79],\n",
        "[    4,   10,   43,    6, 5533,   32,   11,   53,   34,  79],\n",
        "[    3,    1,    2,   56,    0, 4954,   23,    0,   12,   5],\n",
        "[   31,    4,   42,   22,   45,  103, 5806,    3,   34,   3],\n",
        "[    0,    4,   30,   29,    5,    6,    0, 5817,    2,   28],\n",
        "[   35,    6,   63,   58,    8,   59,   26,   13, 5394,   24],\n",
        "[   16,   16,   21,   57,  216,   68,    0,  219,  115, 5693]])"
      ],
      "metadata": {
        "id": "GvD9t1tcmUfc"
      },
      "execution_count": null,
      "outputs": []
    },
    {
      "cell_type": "markdown",
      "source": [
        "Le code ci-dessus permet de representer une matrice de confusion d'un probleme de classification multiclasse contenant 10 labels ou classes"
      ],
      "metadata": {
        "id": "VV8UqvJSmi1J"
      }
    },
    {
      "cell_type": "code",
      "source": [
        "# Calcul de la precision d'une classe dans la matrice de confusion en faisant le ratio entre le nombre d'element qui ont ete bien classé et la somme des eleements de sa colonne\n",
        "def precision(label, confusion_matrix):\n",
        "    col = confusion_matrix[:, label]\n",
        "    return confusion_matrix[label, label] / col.sum()\n",
        "\n",
        "# Calcul du rappel total d'une classe dans la matrice de confusion en faisant le ratio entre le nombre d'element qui ont ete bien classé et la somme des eleements de sa ligne\n",
        "def recall(label, confusion_matrix):\n",
        "    row = confusion_matrix[label, :]\n",
        "    return confusion_matrix[label, label] / row.sum()\n",
        "\n",
        "# Calcul de la precision totale de l'ensmble du modèle en faisant la moyenne des precisions de toutes les classes du modèle\n",
        "def precision_macro_average(confusion_matrix):\n",
        "    rows, columns = confusion_matrix.shape\n",
        "    sum_of_precisions = 0\n",
        "    for label in range(rows):\n",
        "        sum_of_precisions += precision(label, confusion_matrix)\n",
        "    return sum_of_precisions / rows\n",
        "\n",
        "# Calcul de la rappel de l'ensmble du modèle en faisant la moyenne des rappels de toutes les classes du modèle\n",
        "def recall_macro_average(confusion_matrix):\n",
        "    rows, columns = confusion_matrix.shape\n",
        "    sum_of_recalls = 0\n",
        "    for label in range(columns):\n",
        "        sum_of_recalls += recall(label, confusion_matrix)\n",
        "    return sum_of_recalls / columns"
      ],
      "metadata": {
        "id": "cM_TgXR1meZH"
      },
      "execution_count": null,
      "outputs": []
    },
    {
      "cell_type": "code",
      "source": [
        "# On affiche le rappel et la precision de chacune des classes du modèle dont la matrice de confusion a  été representée plus haut \n",
        "print(\"label precision recall\")\n",
        "for label in range(10):\n",
        "    print(f\"{label:5d} {precision(label, cm):9.3f} {recall(label,cm):6.3f}\")"
      ],
      "metadata": {
        "colab": {
          "base_uri": "https://localhost:8080/"
        },
        "id": "oa0AAWbsmupP",
        "outputId": "be31bc72-5bba-4874-a97b-597a04eed89b"
      },
      "execution_count": null,
      "outputs": [
        {
          "output_type": "stream",
          "name": "stdout",
          "text": [
            "label precision recall\n",
            "    0     0.983  0.964\n",
            "    1     0.987  0.954\n",
            "    2     0.933  0.968\n",
            "    3     0.944  0.924\n",
            "    4     0.947  0.953\n",
            "    5     0.914  0.980\n",
            "    6     0.981  0.953\n",
            "    7     0.928  0.982\n",
            "    8     0.922  0.949\n",
            "    9     0.957  0.887\n"
          ]
        }
      ]
    },
    {
      "cell_type": "code",
      "source": [
        "#On affiche la precision et le rappel total du modèle\n",
        "print(\"precision total:\", precision_macro_average(cm))\n",
        "print(\"recall total:\", recall_macro_average(cm))"
      ],
      "metadata": {
        "colab": {
          "base_uri": "https://localhost:8080/"
        },
        "id": "KYI1zDV-m0rr",
        "outputId": "b4a56a11-8257-4b81-cd3d-0d8a5a649cd3"
      },
      "execution_count": null,
      "outputs": [
        {
          "output_type": "stream",
          "name": "stdout",
          "text": [
            "precision total: 0.9496885564052286\n",
            "recall total: 0.9514531547877969\n"
          ]
        }
      ]
    },
    {
      "cell_type": "code",
      "source": [
        "# Calcul du taux de generalisation en faisant le ratio entre la somme des elements de la diagonale de la matrice de confusion et la somme de tout les elements de la matrice de confusion \n",
        "def accuracy(confusion_matrix):\n",
        "    diagonal_sum = confusion_matrix.trace()\n",
        "    sum_of_all_elements = confusion_matrix.sum()\n",
        "    return diagonal_sum / sum_of_all_elements\n",
        "\n",
        "# On affiche le taux de generalisation du modele\n",
        "accuracy(cm)"
      ],
      "metadata": {
        "colab": {
          "base_uri": "https://localhost:8080/"
        },
        "id": "3hRrY62rnMTc",
        "outputId": "5c4e2d0c-c6db-445d-c483-fb2466bb9eb8"
      },
      "execution_count": null,
      "outputs": [
        {
          "output_type": "execute_result",
          "data": {
            "text/plain": [
              "0.9503833333333334"
            ]
          },
          "metadata": {},
          "execution_count": 25
        }
      ]
    },
    {
      "cell_type": "markdown",
      "source": [
        "**RESEAU DE NEURONES A PLUSIEURS COUCHES CACHEES**"
      ],
      "metadata": {
        "id": "0BzRmuqz5mHN"
      }
    },
    {
      "cell_type": "code",
      "source": [
        "import numpy as np\n",
        "from scipy.stats import truncnorm\n",
        "\n",
        "# on definit la fonction sigmoid qui sera usee comme fonction d'activation\n",
        "@np.vectorize\n",
        "def sigmoid(x):\n",
        "    return 1 / (1 + np.e ** -x)\n",
        "activation_function = sigmoid\n",
        "\n",
        "\n",
        "def truncated_normal(mean=0, sd=1, low=0, upp=10):\n",
        "    return truncnorm((low - mean) / sd(upp - mean) / sd, loc=mean, scale=sd)\n",
        "\n",
        "# on definit notre reseau de neurones ainsi que les finctions qui serviront a le manipuler\n",
        "class NeuralNetwork:\n",
        "    \n",
        "    def __init__(self, no_of_in_nodes, no_of_out_nodes, no_of_hidden_nodes, learning_rate, bias=None):\n",
        "        self.no_of_in_nodes = no_of_in_nodes\n",
        "        self.no_of_out_nodes = no_of_out_nodes\n",
        "        self.no_of_hidden_nodes = no_of_hidden_nodes\n",
        "        self.learning_rate = learning_rate\n",
        "        self.bias = bias\n",
        "        self.create_weight_matrices()\n",
        "    \n",
        "    # On initialise les matrices de poids du réseau neuronal avec des nœuds de biais facultatifs\n",
        "    def create_weight_matrices(self):\n",
        "        bias_node = 1 if self.bias else 0\n",
        "        \n",
        "        rad = 1 / np.sqrt(self.no_of_in_nodes + bias_node)\n",
        "        X = truncated_normal(mean=0, sd=1, low=-rad, upp=rad)\n",
        "        self.wih = X.rvs((self.no_of_hidden_nodes, self.no_of_in_nodes + bias_node))\n",
        "        rad = 1 / np.sqrt(self.no_of_hidden_nodes + bias_node)\n",
        "        X = truncated_normal(mean=0, sd=1, low=-rad, upp=rad)\n",
        "        self.who = X.rvs((self.no_of_out_nodes, self.no_of_hidden_nodes + bias_node))\n",
        "\n",
        "    \n",
        "    # On definit la methode d'entrainement de notre neurones\n",
        "    def train(self, input_vector, target_vector):\n",
        "        bias_node = 1 if self.bias else 0\n",
        "        if self.bias:\n",
        "        # On ajoute le noeud biais au vecteur d'entreea\n",
        "            input_vector = np.concatenate((input_vector, [self.bias]) )\n",
        "        \n",
        "        # On se rassure que les vecteurs d'entree et ceux en attendus soient sous la meme forme\n",
        "        input_vector = np.array(input_vector, ndmin=2).T\n",
        "        target_vector = np.array(target_vector, ndmin=2).T\n",
        "        \n",
        "        output_vector1 = np.dot(self.wih, input_vector)\n",
        "        output_hidden = activation_function(output_vector1)\n",
        "            \n",
        "        if self.bias:\n",
        "            # On ajoute un biais a la sortie de la couche cachee\n",
        "            output_hidden = np.concatenate((output_hidden, [[self.bias]]) )\n",
        "        \n",
        "        output_vector2 = np.dot(self.who, output_hidden)\n",
        "        output_network = activation_function(output_vector2)\n",
        "        \n",
        "        # On calcule les erreurs en sortie \n",
        "        output_errors = target_vector - output_network\n",
        "        \n",
        "        # On met a jour les poids en sortie:\n",
        "        tmp = output_errors * output_network * (1.0 - output_network)\n",
        "        tmp = self.learning_rate * np.dot(tmp, output_hidden.T)\n",
        "        self.who += tmp\n",
        "        \n",
        "        # Calcul des erreurs cachees:\n",
        "        hidden_errors = np.dot(self.who.T, output_errors)\n",
        "        \n",
        "        # Mise a jour des poids caches:\n",
        "        tmp = hidden_errors * output_hidden * (1.0 - output_hidden)\n",
        "        \n",
        "        \n",
        "        if self.bias:\n",
        "            x = np.dot(tmp, input_vector.T)[:-1,:]\n",
        "        else:\n",
        "            x = np.dot(tmp, input_vector.T)\n",
        "        self.wih += self.learning_rate * x\n",
        "            \n",
        "    # On definit une methode qui va generer une valeur du neurone en sortie       \n",
        "    def run(self, input_vector):\n",
        "        \n",
        "        if self.bias:\n",
        "        # On ajoute un noeud biais a la fin du vecteur d'entrees\n",
        "            input_vector = np.concatenate((input_vector, [1]) )\n",
        "            \n",
        "        # On cree un vecteur des entrees de dimension minimale 2\n",
        "        input_vector = np.array(input_vector, ndmin=2).T\n",
        "        output_vector = np.dot(self.wih, input_vector)\n",
        "        output_vector = activation_function(output_vector)\n",
        "\n",
        "        if self.bias:\n",
        "            output_vector = np.concatenate( (output_vector, [[1]]) )\n",
        "        output_vector = np.dot(self.who, output_vector)\n",
        "        output_vector = activation_function(output_vector)\n",
        "        return output_vector\n",
        "\n",
        "    # On definit la methode d'evaluation de notre neurone laquelle returnera le nombre d'observations bien et mal classees\n",
        "    def evaluate(self, data, labels):\n",
        "        corrects, wrongs = 0, 0\n",
        "        for i in range(len(data)):\n",
        "            res = self.run(data[i])\n",
        "            res_max = res.argmax()\n",
        "            if res_max == labels[i]:\n",
        "                corrects += 1\n",
        "            else:\n",
        "                wrongs += 1\n",
        "        return corrects, wrongs\n"
      ],
      "metadata": {
        "id": "hsigyWiS50eE"
      },
      "execution_count": null,
      "outputs": []
    },
    {
      "cell_type": "markdown",
      "source": [
        "Il etait question ici d'ecrire la fonction qui permet de representer un reseau de neurones a plusieurs couches. cette fonction sera utilisee par la suite."
      ],
      "metadata": {
        "id": "cRwO9AX_G8pJ"
      }
    },
    {
      "cell_type": "code",
      "source": [
        "# on instancie notre reseau de neurones\n",
        "ANN = NeuralNetwork(no_of_in_nodes=image_pixels, no_of_out_nodes=10, no_of_hidden_nodes=200, \n",
        "                    learning_rate=0.1, bias=None)\n",
        "for i in range(len(train_imgs)):\n",
        "    \n",
        "    ANN.train(train_imgs[i], train_labels_one_hot[i])\n",
        "for i in range(20):\n",
        "    \n",
        "    res = ANN.run(test_imgs[i])\n",
        "    print(test_labels[i], np.argmax(res), np.max(res))"
      ],
      "metadata": {
        "id": "oZBk_T8yCJ3H",
        "outputId": "1be116f8-e084-4cd7-be15-3f02487ef813",
        "colab": {
          "base_uri": "https://localhost:8080/",
          "height": 200
        }
      },
      "execution_count": null,
      "outputs": [
        {
          "output_type": "error",
          "ename": "NameError",
          "evalue": "ignored",
          "traceback": [
            "\u001b[0;31m---------------------------------------------------------------------------\u001b[0m",
            "\u001b[0;31mNameError\u001b[0m                                 Traceback (most recent call last)",
            "\u001b[0;32m<ipython-input-4-2ec80cacdb6b>\u001b[0m in \u001b[0;36m<module>\u001b[0;34m()\u001b[0m\n\u001b[0;32m----> 1\u001b[0;31m \u001b[0mANN\u001b[0m \u001b[0;34m=\u001b[0m \u001b[0mNeuralNetwork\u001b[0m\u001b[0;34m(\u001b[0m\u001b[0mnetwork_structure\u001b[0m\u001b[0;34m=\u001b[0m\u001b[0;34m[\u001b[0m\u001b[0mimage_pixels\u001b[0m\u001b[0;34m,\u001b[0m \u001b[0;36m50\u001b[0m\u001b[0;34m,\u001b[0m \u001b[0;36m50\u001b[0m\u001b[0;34m,\u001b[0m \u001b[0;36m10\u001b[0m\u001b[0;34m]\u001b[0m\u001b[0;34m,\u001b[0m\u001b[0mlearning_rate\u001b[0m\u001b[0;34m=\u001b[0m\u001b[0;36m0.1\u001b[0m\u001b[0;34m,\u001b[0m\u001b[0mbias\u001b[0m\u001b[0;34m=\u001b[0m\u001b[0;32mNone\u001b[0m\u001b[0;34m)\u001b[0m\u001b[0;34m\u001b[0m\u001b[0;34m\u001b[0m\u001b[0m\n\u001b[0m\u001b[1;32m      2\u001b[0m \u001b[0;32mfor\u001b[0m \u001b[0mi\u001b[0m \u001b[0;32min\u001b[0m \u001b[0mrange\u001b[0m\u001b[0;34m(\u001b[0m\u001b[0mlen\u001b[0m\u001b[0;34m(\u001b[0m\u001b[0mtrain_imgs\u001b[0m\u001b[0;34m)\u001b[0m\u001b[0;34m)\u001b[0m\u001b[0;34m:\u001b[0m\u001b[0;34m\u001b[0m\u001b[0;34m\u001b[0m\u001b[0m\n\u001b[1;32m      3\u001b[0m   \u001b[0mANN\u001b[0m\u001b[0;34m.\u001b[0m\u001b[0mtrain\u001b[0m\u001b[0;34m(\u001b[0m\u001b[0mtrain_imgs\u001b[0m\u001b[0;34m[\u001b[0m\u001b[0mi\u001b[0m\u001b[0;34m]\u001b[0m\u001b[0;34m,\u001b[0m \u001b[0mtrain_labels_one_hot\u001b[0m\u001b[0;34m[\u001b[0m\u001b[0mi\u001b[0m\u001b[0;34m]\u001b[0m\u001b[0;34m)\u001b[0m\u001b[0;34m\u001b[0m\u001b[0;34m\u001b[0m\u001b[0m\n",
            "\u001b[0;31mNameError\u001b[0m: name 'image_pixels' is not defined"
          ]
        }
      ]
    },
    {
      "cell_type": "code",
      "source": [
        "corrects, wrongs = ANN.evaluate(train_imgs, train_labels)\n",
        "print(\"accuracy train: \", corrects / ( corrects + wrongs))\n",
        "corrects, wrongs = ANN.evaluate(test_imgs, test_labels)\n",
        "print(\"accuracy: test\", corrects / ( corrects + wrongs))"
      ],
      "metadata": {
        "id": "i2vXz4nCCZa8",
        "outputId": "c7f80b96-b751-4a04-b135-3ec4a2db75f4",
        "colab": {
          "base_uri": "https://localhost:8080/",
          "height": 217
        }
      },
      "execution_count": null,
      "outputs": [
        {
          "output_type": "error",
          "ename": "NameError",
          "evalue": "ignored",
          "traceback": [
            "\u001b[0;31m---------------------------------------------------------------------------\u001b[0m",
            "\u001b[0;31mNameError\u001b[0m                                 Traceback (most recent call last)",
            "\u001b[0;32m<ipython-input-5-a289fb1accb8>\u001b[0m in \u001b[0;36m<module>\u001b[0;34m()\u001b[0m\n\u001b[0;32m----> 1\u001b[0;31m \u001b[0mcorrects\u001b[0m\u001b[0;34m,\u001b[0m \u001b[0mwrongs\u001b[0m \u001b[0;34m=\u001b[0m \u001b[0mANN\u001b[0m\u001b[0;34m.\u001b[0m\u001b[0mevaluate\u001b[0m\u001b[0;34m(\u001b[0m\u001b[0mtrain_imgs\u001b[0m\u001b[0;34m,\u001b[0m \u001b[0mtrain_labels\u001b[0m\u001b[0;34m)\u001b[0m\u001b[0;34m\u001b[0m\u001b[0;34m\u001b[0m\u001b[0m\n\u001b[0m\u001b[1;32m      2\u001b[0m \u001b[0mprint\u001b[0m\u001b[0;34m(\u001b[0m\u001b[0;34m\"accuracy train: \"\u001b[0m\u001b[0;34m,\u001b[0m \u001b[0mcorrects\u001b[0m \u001b[0;34m/\u001b[0m \u001b[0;34m(\u001b[0m \u001b[0mcorrects\u001b[0m \u001b[0;34m+\u001b[0m \u001b[0mwrongs\u001b[0m\u001b[0;34m)\u001b[0m\u001b[0;34m)\u001b[0m\u001b[0;34m\u001b[0m\u001b[0;34m\u001b[0m\u001b[0m\n\u001b[1;32m      3\u001b[0m \u001b[0mcorrects\u001b[0m\u001b[0;34m,\u001b[0m \u001b[0mwrongs\u001b[0m \u001b[0;34m=\u001b[0m \u001b[0mANN\u001b[0m\u001b[0;34m.\u001b[0m\u001b[0mevaluate\u001b[0m\u001b[0;34m(\u001b[0m\u001b[0mtest_imgs\u001b[0m\u001b[0;34m,\u001b[0m \u001b[0mtest_labels\u001b[0m\u001b[0;34m)\u001b[0m\u001b[0;34m\u001b[0m\u001b[0;34m\u001b[0m\u001b[0m\n\u001b[1;32m      4\u001b[0m \u001b[0mprint\u001b[0m\u001b[0;34m(\u001b[0m\u001b[0;34m\"accuracy: test\"\u001b[0m\u001b[0;34m,\u001b[0m \u001b[0mcorrects\u001b[0m \u001b[0;34m/\u001b[0m \u001b[0;34m(\u001b[0m \u001b[0mcorrects\u001b[0m \u001b[0;34m+\u001b[0m \u001b[0mwrongs\u001b[0m\u001b[0;34m)\u001b[0m\u001b[0;34m)\u001b[0m\u001b[0;34m\u001b[0m\u001b[0;34m\u001b[0m\u001b[0m\n",
            "\u001b[0;31mNameError\u001b[0m: name 'ANN' is not defined"
          ]
        }
      ]
    },
    {
      "cell_type": "markdown",
      "source": [
        "On affiche la proportion des donnees correctement classees dans l'entrainement puis dans le test. On constate que cette est sensilement egale dans les deux cas."
      ],
      "metadata": {
        "id": "aQ5ykKt2vsDD"
      }
    },
    {
      "cell_type": "markdown",
      "source": [
        "**RESEAU DE NEURONES A PLUSIEURS COUCHES ET EPOCHS**"
      ],
      "metadata": {
        "id": "GJzgGuRCCjmm"
      }
    },
    {
      "cell_type": "code",
      "source": [
        "import numpy as np\n",
        "\n",
        "@np.vectorize\n",
        "def sigmoid(x):\n",
        "    return 1 / (1 + np.e ** -x)\n",
        "activation_function = sigmoid\n",
        "\n",
        "from scipy.stats import truncnorm\n",
        "\n",
        "def truncated_normal(mean=0, sd=1, low=0, upp=10):\n",
        "    return truncnorm((low - mean) / sd,(upp - mean) / sd, oc=mean, scale=sd)\n",
        "\n",
        "class NeuralNetwork:\n",
        "    def __init__(self, no_of_in_nodes, no_of_out_nodes, no_of_hidden_nodes, learning_rate, bias=None):\n",
        "        self.no_of_in_nodes = no_of_in_nodes\n",
        "        self.no_of_out_nodes = no_of_out_nodes\n",
        "        self.no_of_hidden_nodes = no_of_hidden_nodes\n",
        "        self.learning_rate = learning_rate\n",
        "        self.bias = bias\n",
        "        self.create_weight_matrices()\n",
        "    \n",
        "    # On initialise les matrices de poids du réseau neuronal avec des nœuds de biais facultatifs\n",
        "    def create_weight_matrices(self):\n",
        "        \n",
        "        bias_node = 1 if self.bias else 0\n",
        "        rad = 1 / np.sqrt(self.no_of_in_nodes + bias_node)\n",
        "        X = truncated_normal(mean=0, sd=1, low=-rad, upp=rad)\n",
        "        self.wih = X.rvs((self.no_of_hidden_nodes, self.no_of_in_nodes + bias_node))\n",
        "        rad = 1 / np.sqrt(self.no_of_hidden_nodes + bias_node)\n",
        "        X = truncated_normal(mean=0, sd=1, low=-rad, upp=rad)\n",
        "        self.who = X.rvs((self.no_of_out_nodes,self.no_of_hidden_nodes + bias_node)) \n",
        "        \n",
        "    # On definit la methode d'entrainement de notre neurones\n",
        "    def train_single(self, input_vector, target_vector):\n",
        "        \n",
        "        bias_node = 1 if self.bias else 0\n",
        "        \n",
        "        if self.bias:\n",
        "        \n",
        "            input_vector = np.concatenate( (input_vector, [self.bias]) )\n",
        "            \n",
        "        output_vectors = []\n",
        "        input_vector = np.array(input_vector, ndmin=2).T\n",
        "        target_vector = np.array(target_vector, ndmin=2).T\n",
        "        output_vector1 = np.dot(self.wih, input_vector)\n",
        "        output_hidden = activation_function(output_vector1)\n",
        "        \n",
        "        if self.bias:\n",
        "            output_hidden = np.concatenate((output_hidden, [[self.bias]]) )\n",
        "        output_vector2 = np.dot(self.who,\n",
        "        output_hidden)\n",
        "        output_network = activation_function(output_vector2)\n",
        "        output_errors = target_vector - output_network\n",
        "        \n",
        "        # Mise a jour des poids ensortie:\n",
        "        tmp = output_errors * output_network * (1.0 - output_network)\n",
        "        tmp = self.learning_rate * np.dot(tmp, output_hidden.T)\n",
        "        self.who += tmp\n",
        "        \n",
        "        # calcul des erreurs cachee:\n",
        "        hidden_errors = np.dot(self.who.T, output_errors)\n",
        "        \n",
        "        # Mise a jour des poids caches:\n",
        "    tmp = hidden_errors * output_hidden * (1.0 - output_hidden)\n",
        "    \n",
        "    if self.bias:\n",
        "        x = np.dot(tmp, input_vector.T)[:-1,:]\n",
        "    else:\n",
        "        x = np.dot(tmp, input_vector.T)\n",
        "        self.wih += self.learning_rate * x\n",
        "        \n",
        "    # On definit la methode d'entrainement de notre neurones avec un nombre d'epochs\n",
        "    def train(self, data_array, labels_one_hot_array, epochs=1, intermediate_results=False):\n",
        "        intermediate_weights = []\n",
        "        for epoch in range(epochs):\n",
        "            for i in range(len(data_array)):\n",
        "                self.train_single(data_array[i],\n",
        "                labels_one_hot_array[i])\n",
        "            if intermediate_results:\n",
        "                intermediate_weights.append((self.wih.copy(),\n",
        "                self.who.copy()))\n",
        "        return intermediate_weights\n",
        "    \n",
        "    # On definit une methode qui va generer une valeur du neurone en sortie \n",
        "    def run(self, input_vector):\n",
        "        \n",
        "        if self.bias:\n",
        "        # ajout d'un noeud biais au vecteur d'entree\n",
        "            input_vector = np.concatenate( (input_vector, [self.bias]) )\n",
        "        input_vector = np.array(input_vector, ndmin=2).T\n",
        "        output_vector = np.dot(self.wih,\n",
        "        input_vector)\n",
        "        output_vector = activation_function(output_vector)\n",
        "        \n",
        "        if self.bias:\n",
        "            output_vector = np.concatenate( (output_vector, [[self.bias]]) )\n",
        "        output_vector = np.dot(self.who, output_vector)\n",
        "        output_vector = activation_function(output_vector)\n",
        "        return output_vector\n",
        "    \n",
        "    # On definit la methode d'evaluation de notre neurone laquelle returnera le nombre d'observations bien et mal classees\n",
        "    def evaluate(self, data, labels):\n",
        "        corrects, wrongs = 0, 0\n",
        "        for i in range(len(data)):\n",
        "            res = self.run(data[i])\n",
        "            res_max = res.argmax()\n",
        "            if res_max == labels[i]:\n",
        "                corrects += 1\n",
        "            else:\n",
        "                wrongs += 1\n",
        "        return corrects, wrongs\n"
      ],
      "metadata": {
        "id": "2h5nfLWkCt7M"
      },
      "execution_count": null,
      "outputs": []
    },
    {
      "cell_type": "markdown",
      "source": [
        "Il etait question d'ecrire la fonction d'un reseau de neurones a plusieurs couches en incluant le nombre d'epochs.\n",
        "cette fonction va etre utilisee par la suite."
      ],
      "metadata": {
        "id": "--WJPdQqHSQA"
      }
    },
    {
      "cell_type": "code",
      "source": [
        "# On fixe le nombre de fois qu'on va faire passer les observations dans le neseau de neurone\n",
        "epochs = 12\n",
        "\n",
        "# Instance de notre ANN\n",
        "network = NeuralNetwork(no_of_in_nodes=image_pixels, no_of_out_nodes=10, no_of_hidden_nodes=100, learning_rate=0.1,\n",
        "                        bias=None)\n",
        "\n",
        "# on genere les poids de notre objet neurone l\n",
        "weights = network.train(train_imgs, train_labels_one_hot, epochs=epochs, intermediate_results=True)\n",
        "for epoch in range(epochs):\n",
        "    # on affiche le nombre d'epochs\n",
        "    print(\"epoch: \", epoch)\n",
        "    network.wih = weights[epoch][0]\n",
        "    network.who = weights[epoch][1]\n",
        "\n",
        "    # on evalue notre modele\n",
        "    corrects, wrongs = network.evaluate(train_imgs, train_labels)\n",
        "    \n",
        "    # on affiche la proportions des donnees correctement classees dans l'entrainement puis dans le test\n",
        "    print(\"accuracy train: \", corrects / ( corrects + wrongs))\n",
        "    corrects, wrongs = network.evaluate(test_imgs,test_labels)\n",
        "    print(\"accuracy test: \", corrects / ( corrects + wrongs))"
      ],
      "metadata": {
        "id": "ejRE3yOiGkt-",
        "outputId": "93a13cde-de5a-4cc2-8952-74956680a527",
        "colab": {
          "base_uri": "https://localhost:8080/",
          "height": 200
        }
      },
      "execution_count": null,
      "outputs": [
        {
          "output_type": "error",
          "ename": "NameError",
          "evalue": "ignored",
          "traceback": [
            "\u001b[0;31m---------------------------------------------------------------------------\u001b[0m",
            "\u001b[0;31mNameError\u001b[0m                                 Traceback (most recent call last)",
            "\u001b[0;32m<ipython-input-8-662199af0019>\u001b[0m in \u001b[0;36m<module>\u001b[0;34m()\u001b[0m\n\u001b[1;32m      1\u001b[0m \u001b[0mepochs\u001b[0m \u001b[0;34m=\u001b[0m \u001b[0;36m3\u001b[0m\u001b[0;34m\u001b[0m\u001b[0;34m\u001b[0m\u001b[0m\n\u001b[0;32m----> 2\u001b[0;31m \u001b[0mANN\u001b[0m \u001b[0;34m=\u001b[0m \u001b[0mNeuralNetwork\u001b[0m\u001b[0;34m(\u001b[0m\u001b[0mnetwork_structure\u001b[0m\u001b[0;34m=\u001b[0m\u001b[0;34m[\u001b[0m\u001b[0mimage_pixels\u001b[0m\u001b[0;34m,\u001b[0m \u001b[0;36m80\u001b[0m\u001b[0;34m,\u001b[0m \u001b[0;36m80\u001b[0m\u001b[0;34m,\u001b[0m \u001b[0;36m10\u001b[0m\u001b[0;34m]\u001b[0m\u001b[0;34m,\u001b[0m\u001b[0mlearning_rate\u001b[0m\u001b[0;34m=\u001b[0m\u001b[0;36m0.01\u001b[0m\u001b[0;34m,\u001b[0m\u001b[0mbias\u001b[0m\u001b[0;34m=\u001b[0m\u001b[0;32mNone\u001b[0m\u001b[0;34m)\u001b[0m\u001b[0;34m\u001b[0m\u001b[0;34m\u001b[0m\u001b[0m\n\u001b[0m\u001b[1;32m      3\u001b[0m \u001b[0mANN\u001b[0m\u001b[0;34m.\u001b[0m\u001b[0mtrain\u001b[0m\u001b[0;34m(\u001b[0m\u001b[0mtrain_imgs\u001b[0m\u001b[0;34m,\u001b[0m \u001b[0mtrain_labels_one_hot\u001b[0m\u001b[0;34m,\u001b[0m \u001b[0mepochs\u001b[0m\u001b[0;34m=\u001b[0m\u001b[0mepochs\u001b[0m\u001b[0;34m)\u001b[0m\u001b[0;34m\u001b[0m\u001b[0;34m\u001b[0m\u001b[0m\n",
            "\u001b[0;31mNameError\u001b[0m: name 'image_pixels' is not defined"
          ]
        }
      ]
    },
    {
      "cell_type": "markdown",
      "source": [
        "On affiche la proportion des donnees correctement classees dans l'entrainement puis dans le test dans ce cas ou on use un nombre d'epochs."
      ],
      "metadata": {
        "id": "tfXmO4d22XVn"
      }
    },
    {
      "cell_type": "code",
      "source": [
        "epochs = 12\n",
        "\n",
        "# on ouvre notre fichier de donnees de test en mode ecriture\n",
        "with open(\"nist_tests.csv\", \"w\") as fh_out:\n",
        "    for hidden_nodes in [20, 50, 100, 120, 150]:\n",
        "        for learning_rate in [0.01, 0.05, 0.1, 0.2]:\n",
        "            for bias in [None, 0.5]:\n",
        "                network = NeuralNetwork(no_of_in_nodes=image_pixels, no_of_out_nodes=10, \n",
        "                                        no_of_hidden_nodes=hidden_nodes, learning_rate=learning_rate, bias=bias)\n",
        "                # on genere des poids\n",
        "                weights = network.train(train_imgs, train_labels_one_hot, epochs=epochs, intermediate_results=True)\n",
        "                for epoch in range(epochs):\n",
        "                    print(\"*\", end=\"\")\n",
        "                    network.wih = weights[epoch][0]\n",
        "                    network.who = weights[epoch][1]\n",
        "                    train_corrects, train_wrongs = network.evaluate(train_imgs, train_labels)\n",
        "                    test_corrects, test_wrongs = network.evaluate(test_imgs, test_labels)\n",
        "                    outstr = str(hidden_nodes) + \" \" + str(learning_rate) + \" \" + str(bias)\n",
        "                    outstr += \" \" + str(epoch) + \" \"\n",
        "                    outstr += str(train_corrects / (train_corrects + train_wrongs)) + \" \"\n",
        "                    outstr += str(train_wrongs/(train_corrects + train_wrongs)) + \" \"\n",
        "                    outstr += str(test_corrects / (test_corrects + test_wrongs)) + \" \"\n",
        "                    outstr += str(test_wrongs / (test_corrects + test_wrongs)) + \" \"\n",
        "                    \n",
        "                    fh_out.write(outstr + \"\\n\")\n",
        "                    fh_out.flush()"
      ],
      "metadata": {
        "id": "wJIyYMb-0A6b"
      },
      "execution_count": null,
      "outputs": []
    },
    {
      "cell_type": "code",
      "source": [
        "corrects, wrongs = ANN.evaluate(train_imgs, train_labels)\n",
        "print(\"accuracy train: \", corrects / ( corrects + wrongs))\n",
        "corrects, wrongs = ANN.evaluate(test_imgs, test_labels)\n",
        "print(\"accuracy: test\", corrects / ( corrects + wrongs))"
      ],
      "metadata": {
        "id": "WW08xi8FGuQJ",
        "outputId": "cd560f4b-9370-4028-c4c1-5baa5961d3f8",
        "colab": {
          "base_uri": "https://localhost:8080/",
          "height": 217
        }
      },
      "execution_count": null,
      "outputs": [
        {
          "output_type": "error",
          "ename": "NameError",
          "evalue": "ignored",
          "traceback": [
            "\u001b[0;31m---------------------------------------------------------------------------\u001b[0m",
            "\u001b[0;31mNameError\u001b[0m                                 Traceback (most recent call last)",
            "\u001b[0;32m<ipython-input-9-a289fb1accb8>\u001b[0m in \u001b[0;36m<module>\u001b[0;34m()\u001b[0m\n\u001b[0;32m----> 1\u001b[0;31m \u001b[0mcorrects\u001b[0m\u001b[0;34m,\u001b[0m \u001b[0mwrongs\u001b[0m \u001b[0;34m=\u001b[0m \u001b[0mANN\u001b[0m\u001b[0;34m.\u001b[0m\u001b[0mevaluate\u001b[0m\u001b[0;34m(\u001b[0m\u001b[0mtrain_imgs\u001b[0m\u001b[0;34m,\u001b[0m \u001b[0mtrain_labels\u001b[0m\u001b[0;34m)\u001b[0m\u001b[0;34m\u001b[0m\u001b[0;34m\u001b[0m\u001b[0m\n\u001b[0m\u001b[1;32m      2\u001b[0m \u001b[0mprint\u001b[0m\u001b[0;34m(\u001b[0m\u001b[0;34m\"accuracy train: \"\u001b[0m\u001b[0;34m,\u001b[0m \u001b[0mcorrects\u001b[0m \u001b[0;34m/\u001b[0m \u001b[0;34m(\u001b[0m \u001b[0mcorrects\u001b[0m \u001b[0;34m+\u001b[0m \u001b[0mwrongs\u001b[0m\u001b[0;34m)\u001b[0m\u001b[0;34m)\u001b[0m\u001b[0;34m\u001b[0m\u001b[0;34m\u001b[0m\u001b[0m\n\u001b[1;32m      3\u001b[0m \u001b[0mcorrects\u001b[0m\u001b[0;34m,\u001b[0m \u001b[0mwrongs\u001b[0m \u001b[0;34m=\u001b[0m \u001b[0mANN\u001b[0m\u001b[0;34m.\u001b[0m\u001b[0mevaluate\u001b[0m\u001b[0;34m(\u001b[0m\u001b[0mtest_imgs\u001b[0m\u001b[0;34m,\u001b[0m \u001b[0mtest_labels\u001b[0m\u001b[0;34m)\u001b[0m\u001b[0;34m\u001b[0m\u001b[0;34m\u001b[0m\u001b[0m\n\u001b[1;32m      4\u001b[0m \u001b[0mprint\u001b[0m\u001b[0;34m(\u001b[0m\u001b[0;34m\"accuracy: test\"\u001b[0m\u001b[0;34m,\u001b[0m \u001b[0mcorrects\u001b[0m \u001b[0;34m/\u001b[0m \u001b[0;34m(\u001b[0m \u001b[0mcorrects\u001b[0m \u001b[0;34m+\u001b[0m \u001b[0mwrongs\u001b[0m\u001b[0;34m)\u001b[0m\u001b[0;34m)\u001b[0m\u001b[0;34m\u001b[0m\u001b[0;34m\u001b[0m\u001b[0m\n",
            "\u001b[0;31mNameError\u001b[0m: name 'ANN' is not defined"
          ]
        }
      ]
    }
  ]
}